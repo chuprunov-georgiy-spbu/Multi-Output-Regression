{
  "cells": [
    {
      "cell_type": "code",
      "source": [
        "import scipy.io\n",
        "import pandas as pd\n",
        "import seaborn as sns\n",
        "from sklearn.model_selection import train_test_split\n",
        "from sklearn.linear_model import LinearRegression\n",
        "import matplotlib.pyplot as plt\n",
        "from sklearn.metrics import mean_squared_error, r2_score, mean_absolute_error\n",
        "from sklearn.preprocessing import StandardScaler\n",
        "import numpy as np"
      ],
      "metadata": {
        "id": "SdvpNki-bbQ9"
      },
      "execution_count": null,
      "outputs": []
    },
    {
      "cell_type": "markdown",
      "source": [
        "# Предобработка данных"
      ],
      "metadata": {
        "id": "psqnoJ0Mtvhu"
      }
    },
    {
      "cell_type": "code",
      "source": [
        "from google.colab import files\n",
        "\n",
        "# Загрузка файлов\n",
        "uploaded = files.upload()"
      ],
      "metadata": {
        "id": "ZkdFBaZPcXJy",
        "outputId": "fca77111-0efe-4753-8659-f94663c3681d",
        "colab": {
          "base_uri": "https://localhost:8080/",
          "height": 108
        }
      },
      "execution_count": null,
      "outputs": [
        {
          "output_type": "display_data",
          "data": {
            "text/plain": [
              "<IPython.core.display.HTML object>"
            ],
            "text/html": [
              "\n",
              "     <input type=\"file\" id=\"files-e1edd6bd-85ef-4ed4-b303-8ceab47a844c\" name=\"files[]\" multiple disabled\n",
              "        style=\"border:none\" />\n",
              "     <output id=\"result-e1edd6bd-85ef-4ed4-b303-8ceab47a844c\">\n",
              "      Upload widget is only available when the cell has been executed in the\n",
              "      current browser session. Please rerun this cell to enable.\n",
              "      </output>\n",
              "      <script>// Copyright 2017 Google LLC\n",
              "//\n",
              "// Licensed under the Apache License, Version 2.0 (the \"License\");\n",
              "// you may not use this file except in compliance with the License.\n",
              "// You may obtain a copy of the License at\n",
              "//\n",
              "//      http://www.apache.org/licenses/LICENSE-2.0\n",
              "//\n",
              "// Unless required by applicable law or agreed to in writing, software\n",
              "// distributed under the License is distributed on an \"AS IS\" BASIS,\n",
              "// WITHOUT WARRANTIES OR CONDITIONS OF ANY KIND, either express or implied.\n",
              "// See the License for the specific language governing permissions and\n",
              "// limitations under the License.\n",
              "\n",
              "/**\n",
              " * @fileoverview Helpers for google.colab Python module.\n",
              " */\n",
              "(function(scope) {\n",
              "function span(text, styleAttributes = {}) {\n",
              "  const element = document.createElement('span');\n",
              "  element.textContent = text;\n",
              "  for (const key of Object.keys(styleAttributes)) {\n",
              "    element.style[key] = styleAttributes[key];\n",
              "  }\n",
              "  return element;\n",
              "}\n",
              "\n",
              "// Max number of bytes which will be uploaded at a time.\n",
              "const MAX_PAYLOAD_SIZE = 100 * 1024;\n",
              "\n",
              "function _uploadFiles(inputId, outputId) {\n",
              "  const steps = uploadFilesStep(inputId, outputId);\n",
              "  const outputElement = document.getElementById(outputId);\n",
              "  // Cache steps on the outputElement to make it available for the next call\n",
              "  // to uploadFilesContinue from Python.\n",
              "  outputElement.steps = steps;\n",
              "\n",
              "  return _uploadFilesContinue(outputId);\n",
              "}\n",
              "\n",
              "// This is roughly an async generator (not supported in the browser yet),\n",
              "// where there are multiple asynchronous steps and the Python side is going\n",
              "// to poll for completion of each step.\n",
              "// This uses a Promise to block the python side on completion of each step,\n",
              "// then passes the result of the previous step as the input to the next step.\n",
              "function _uploadFilesContinue(outputId) {\n",
              "  const outputElement = document.getElementById(outputId);\n",
              "  const steps = outputElement.steps;\n",
              "\n",
              "  const next = steps.next(outputElement.lastPromiseValue);\n",
              "  return Promise.resolve(next.value.promise).then((value) => {\n",
              "    // Cache the last promise value to make it available to the next\n",
              "    // step of the generator.\n",
              "    outputElement.lastPromiseValue = value;\n",
              "    return next.value.response;\n",
              "  });\n",
              "}\n",
              "\n",
              "/**\n",
              " * Generator function which is called between each async step of the upload\n",
              " * process.\n",
              " * @param {string} inputId Element ID of the input file picker element.\n",
              " * @param {string} outputId Element ID of the output display.\n",
              " * @return {!Iterable<!Object>} Iterable of next steps.\n",
              " */\n",
              "function* uploadFilesStep(inputId, outputId) {\n",
              "  const inputElement = document.getElementById(inputId);\n",
              "  inputElement.disabled = false;\n",
              "\n",
              "  const outputElement = document.getElementById(outputId);\n",
              "  outputElement.innerHTML = '';\n",
              "\n",
              "  const pickedPromise = new Promise((resolve) => {\n",
              "    inputElement.addEventListener('change', (e) => {\n",
              "      resolve(e.target.files);\n",
              "    });\n",
              "  });\n",
              "\n",
              "  const cancel = document.createElement('button');\n",
              "  inputElement.parentElement.appendChild(cancel);\n",
              "  cancel.textContent = 'Cancel upload';\n",
              "  const cancelPromise = new Promise((resolve) => {\n",
              "    cancel.onclick = () => {\n",
              "      resolve(null);\n",
              "    };\n",
              "  });\n",
              "\n",
              "  // Wait for the user to pick the files.\n",
              "  const files = yield {\n",
              "    promise: Promise.race([pickedPromise, cancelPromise]),\n",
              "    response: {\n",
              "      action: 'starting',\n",
              "    }\n",
              "  };\n",
              "\n",
              "  cancel.remove();\n",
              "\n",
              "  // Disable the input element since further picks are not allowed.\n",
              "  inputElement.disabled = true;\n",
              "\n",
              "  if (!files) {\n",
              "    return {\n",
              "      response: {\n",
              "        action: 'complete',\n",
              "      }\n",
              "    };\n",
              "  }\n",
              "\n",
              "  for (const file of files) {\n",
              "    const li = document.createElement('li');\n",
              "    li.append(span(file.name, {fontWeight: 'bold'}));\n",
              "    li.append(span(\n",
              "        `(${file.type || 'n/a'}) - ${file.size} bytes, ` +\n",
              "        `last modified: ${\n",
              "            file.lastModifiedDate ? file.lastModifiedDate.toLocaleDateString() :\n",
              "                                    'n/a'} - `));\n",
              "    const percent = span('0% done');\n",
              "    li.appendChild(percent);\n",
              "\n",
              "    outputElement.appendChild(li);\n",
              "\n",
              "    const fileDataPromise = new Promise((resolve) => {\n",
              "      const reader = new FileReader();\n",
              "      reader.onload = (e) => {\n",
              "        resolve(e.target.result);\n",
              "      };\n",
              "      reader.readAsArrayBuffer(file);\n",
              "    });\n",
              "    // Wait for the data to be ready.\n",
              "    let fileData = yield {\n",
              "      promise: fileDataPromise,\n",
              "      response: {\n",
              "        action: 'continue',\n",
              "      }\n",
              "    };\n",
              "\n",
              "    // Use a chunked sending to avoid message size limits. See b/62115660.\n",
              "    let position = 0;\n",
              "    do {\n",
              "      const length = Math.min(fileData.byteLength - position, MAX_PAYLOAD_SIZE);\n",
              "      const chunk = new Uint8Array(fileData, position, length);\n",
              "      position += length;\n",
              "\n",
              "      const base64 = btoa(String.fromCharCode.apply(null, chunk));\n",
              "      yield {\n",
              "        response: {\n",
              "          action: 'append',\n",
              "          file: file.name,\n",
              "          data: base64,\n",
              "        },\n",
              "      };\n",
              "\n",
              "      let percentDone = fileData.byteLength === 0 ?\n",
              "          100 :\n",
              "          Math.round((position / fileData.byteLength) * 100);\n",
              "      percent.textContent = `${percentDone}% done`;\n",
              "\n",
              "    } while (position < fileData.byteLength);\n",
              "  }\n",
              "\n",
              "  // All done.\n",
              "  yield {\n",
              "    response: {\n",
              "      action: 'complete',\n",
              "    }\n",
              "  };\n",
              "}\n",
              "\n",
              "scope.google = scope.google || {};\n",
              "scope.google.colab = scope.google.colab || {};\n",
              "scope.google.colab._files = {\n",
              "  _uploadFiles,\n",
              "  _uploadFilesContinue,\n",
              "};\n",
              "})(self);\n",
              "</script> "
            ]
          },
          "metadata": {}
        },
        {
          "output_type": "stream",
          "name": "stdout",
          "text": [
            "Saving dm.mat to dm.mat\n",
            "Saving flows.mat to flows.mat\n"
          ]
        }
      ]
    },
    {
      "cell_type": "code",
      "source": [
        "# Загрузка данных из файлов .mat\n",
        "dm_data = scipy.io.loadmat('dm.mat')\n",
        "flows_data = scipy.io.loadmat('flows.mat')"
      ],
      "metadata": {
        "id": "PgUQz-mBhFuR"
      },
      "execution_count": null,
      "outputs": []
    },
    {
      "cell_type": "code",
      "source": [
        "# Просмотр содержимого .mat файла\n",
        "print(dm_data.keys())"
      ],
      "metadata": {
        "id": "RAVPTDClbU1j",
        "outputId": "b3007586-11ee-415e-ab38-421442141f7b",
        "colab": {
          "base_uri": "https://localhost:8080/"
        }
      },
      "execution_count": null,
      "outputs": [
        {
          "output_type": "stream",
          "name": "stdout",
          "text": [
            "dict_keys(['__header__', '__version__', '__globals__', 'dm'])\n"
          ]
        }
      ]
    },
    {
      "cell_type": "code",
      "source": [
        "# Просмотр содержимого .mat файла\n",
        "print(flows_data.keys())"
      ],
      "metadata": {
        "id": "GXUVhVyghToD",
        "outputId": "bcde6e6a-f46e-4220-9837-7490b94e0d73",
        "colab": {
          "base_uri": "https://localhost:8080/"
        }
      },
      "execution_count": null,
      "outputs": [
        {
          "output_type": "stream",
          "name": "stdout",
          "text": [
            "dict_keys(['__header__', '__version__', '__globals__', 'flows'])\n"
          ]
        }
      ]
    },
    {
      "cell_type": "code",
      "source": [
        "# Предположим, что данные хранятся в переменных 'dm' и 'flows'\n",
        "dm = dm_data['dm']\n",
        "flows = flows_data['flows']"
      ],
      "metadata": {
        "id": "gUQ8orr6h-jn"
      },
      "execution_count": null,
      "outputs": []
    },
    {
      "cell_type": "code",
      "source": [
        "# Преобразуем данные в 2D массивы, если они трехмерные\n",
        "# Например, если dm имеет форму (n_samples, n_features, n_time_steps),\n",
        "# то можно преобразовать его в (n_samples, n_features * n_time_steps)\n",
        "dm_reshaped = dm.reshape(dm.shape[-1], -1)\n",
        "flows_reshaped = flows.reshape(flows.shape[-1], -1)"
      ],
      "metadata": {
        "id": "xOFygUG0hlx1"
      },
      "execution_count": null,
      "outputs": []
    },
    {
      "cell_type": "code",
      "source": [
        "print(f\"Размер X: {dm_reshaped.shape}\")\n",
        "print(f\"Размер y: {flows_reshaped.shape}\")"
      ],
      "metadata": {
        "id": "KoROksLchm1h",
        "outputId": "dfa55cd0-691c-4e91-9b24-2b64ef1f5ce3",
        "colab": {
          "base_uri": "https://localhost:8080/"
        }
      },
      "execution_count": null,
      "outputs": [
        {
          "output_type": "stream",
          "name": "stdout",
          "text": [
            "Размер X: (10000, 576)\n",
            "Размер y: (10000, 576)\n"
          ]
        }
      ]
    },
    {
      "cell_type": "code",
      "source": [
        "# Преобразование массива в DataFrame\n",
        "df = pd.DataFrame(dm_reshaped)\n",
        "\n",
        "# Сохранение DataFrame в .csv файл\n",
        "df.to_csv('dm_new.csv', index=True)"
      ],
      "metadata": {
        "id": "U60GJUL3bzIg"
      },
      "execution_count": null,
      "outputs": []
    },
    {
      "cell_type": "code",
      "source": [
        "# Преобразование массива в DataFrame\n",
        "df_flows = pd.DataFrame(flows_reshaped)\n",
        "\n",
        "# Сохранение DataFrame в .csv файл\n",
        "df_flows.to_csv('flows_new.csv', index=False)"
      ],
      "metadata": {
        "id": "blxBhkwukq-u"
      },
      "execution_count": null,
      "outputs": []
    },
    {
      "cell_type": "code",
      "source": [
        "input_data = pd.read_csv('dm_new.csv')\n",
        "output_data = pd.read_csv('flows_new.csv')"
      ],
      "metadata": {
        "id": "eKk8Gez2pWTv"
      },
      "execution_count": null,
      "outputs": []
    },
    {
      "cell_type": "code",
      "source": [
        "# Преобразование в numpy массивы\n",
        "X = input_data.values  # Размер (10000, 576)\n",
        "y = output_data.values  # Размер (10000, 576)"
      ],
      "metadata": {
        "id": "JKGBo473Xgi0"
      },
      "execution_count": null,
      "outputs": []
    },
    {
      "cell_type": "code",
      "source": [
        "# Нормализация входных данных\n",
        "scaler_X = StandardScaler()\n",
        "X_scaled = scaler_X.fit_transform(X)\n",
        "\n",
        "# Нормализация выходных данных\n",
        "scaler_y = StandardScaler()\n",
        "y_scaled = scaler_y.fit_transform(y)"
      ],
      "metadata": {
        "id": "gfLNrQoOkzZd"
      },
      "execution_count": null,
      "outputs": []
    },
    {
      "cell_type": "markdown",
      "source": [
        "# Linear Regression"
      ],
      "metadata": {
        "id": "dw9tNHeCaDFE"
      }
    },
    {
      "cell_type": "code",
      "source": [
        "# Удаление первого столбца (индексы)\n",
        "X_scaled = X_scaled[:, 1:]  # Все строки, начиная со второго столбца\n",
        "\n",
        "# Разделение данных на обучающую и тестовую выборки\n",
        "X_train, X_test, y_train, y_test = train_test_split(X_scaled, y_scaled, test_size=0.2, random_state=42)\n",
        "\n",
        "print(\"Форма X_train:\", X_train.shape)\n",
        "print(\"Форма X_test:\", X_test.shape)\n",
        "print(\"Форма y_train:\", y_train.shape)\n",
        "print(\"Форма y_test:\", y_test.shape)"
      ],
      "metadata": {
        "colab": {
          "base_uri": "https://localhost:8080/"
        },
        "id": "sgEdrkuVGbWL",
        "outputId": "54597166-3945-4a87-fbc5-31308462e3d1"
      },
      "execution_count": null,
      "outputs": [
        {
          "output_type": "stream",
          "name": "stdout",
          "text": [
            "Форма X_train: (8000, 576)\n",
            "Форма X_test: (2000, 576)\n",
            "Форма y_train: (8000, 576)\n",
            "Форма y_test: (2000, 576)\n"
          ]
        }
      ]
    },
    {
      "cell_type": "code",
      "source": [
        "# Функция для вычисления R²:\n",
        "def r2_score_linear(y_true, y_pred):\n",
        "    y_mean = np.mean(y_true, axis=0)\n",
        "    numerator = np.sum(np.abs(y_true - y_pred), axis=0)\n",
        "    denominator = np.sum(np.abs(y_true - y_mean), axis=0)\n",
        "    denominator = np.where(denominator == 0, 1e-10, denominator)\n",
        "    r2 = 1 - (numerator / denominator)\n",
        "    return np.mean(r2)"
      ],
      "metadata": {
        "id": "9aQTpQpBHs3B"
      },
      "execution_count": null,
      "outputs": []
    },
    {
      "cell_type": "code",
      "source": [
        "# Создание модели линейной регрессии\n",
        "model = LinearRegression()\n",
        "\n",
        "# Обучение модели\n",
        "model.fit(X_train, y_train)\n",
        "\n",
        "# Предсказание на тестовой выборке\n",
        "y_pred_scaled = model.predict(X_test)\n",
        "\n",
        "# Обратное преобразование для y_pred и y_test\n",
        "y_pred = scaler_y.inverse_transform(y_pred_scaled)\n",
        "y_test_original = scaler_y.inverse_transform(y_test)"
      ],
      "metadata": {
        "id": "vgMrF7FZG6Mg"
      },
      "execution_count": null,
      "outputs": []
    },
    {
      "cell_type": "code",
      "source": [
        "# Вычисление R²:\n",
        "r2 = r2_score_linear(y_test_original, y_pred)\n",
        "print(\"R² на тестовой выборке:\", r2)"
      ],
      "metadata": {
        "colab": {
          "base_uri": "https://localhost:8080/"
        },
        "id": "aAoX0RzYG-nT",
        "outputId": "d8e6c359-631a-4889-ba4f-a0c1ccd7bdb6"
      },
      "execution_count": null,
      "outputs": [
        {
          "output_type": "stream",
          "name": "stdout",
          "text": [
            "R² на тестовой выборке: 0.015150093055825395\n"
          ]
        }
      ]
    },
    {
      "cell_type": "markdown",
      "source": [
        "# KNN"
      ],
      "metadata": {
        "id": "IHDPshQRe_i5"
      }
    },
    {
      "cell_type": "code",
      "source": [
        "from sklearn.neighbors import KNeighborsRegressor\n",
        "\n",
        "# Создание модели k-NN\n",
        "knn_model = KNeighborsRegressor(n_neighbors=5)  # Используем 5 соседей\n",
        "\n",
        "# Обучение модели\n",
        "knn_model.fit(X_train, y_train)\n",
        "\n",
        "# Предсказание на тестовой выборке\n",
        "y_pred_scaled = knn_model.predict(X_test)\n",
        "\n",
        "# Обратное преобразование для y_pred и y_test\n",
        "y_pred = scaler_y.inverse_transform(y_pred_scaled)\n",
        "y_test_original = scaler_y.inverse_transform(y_test)"
      ],
      "metadata": {
        "id": "YRerkgtbcJ71"
      },
      "execution_count": null,
      "outputs": []
    },
    {
      "cell_type": "code",
      "source": [
        "# Вычисление R²:\n",
        "r2 = r2_score_linear(y_test_original, y_pred)\n",
        "print(\"R² на тестовой выборке:\", r2)"
      ],
      "metadata": {
        "colab": {
          "base_uri": "https://localhost:8080/"
        },
        "id": "2BpHkcgTfuvX",
        "outputId": "10d82e95-7083-43f6-f862-72662d9b3587"
      },
      "execution_count": null,
      "outputs": [
        {
          "output_type": "stream",
          "name": "stdout",
          "text": [
            "R² на тестовой выборке: 0.036211702483291974\n"
          ]
        }
      ]
    },
    {
      "cell_type": "markdown",
      "source": [
        "# Evaluate Multioutput Regression with Cross-Validation for KNN"
      ],
      "metadata": {
        "id": "c47gLr_NkZTp"
      }
    },
    {
      "cell_type": "code",
      "source": [
        "# Функция для вычисления R²:\n",
        "def r2_score_knn_cv(y_true, y_pred):\n",
        "    y_mean = np.mean(y_true, axis=0)\n",
        "    numerator = np.sum(np.abs(y_true - y_pred), axis=0)\n",
        "    denominator = np.sum(np.abs(y_true - y_mean), axis=0)\n",
        "    denominator = np.where(denominator == 0, 1e-10, denominator)\n",
        "    r2 = abs(1 - (numerator / denominator))\n",
        "    return np.mean(r2)"
      ],
      "metadata": {
        "id": "f0rbiLyNm2LA"
      },
      "execution_count": null,
      "outputs": []
    },
    {
      "cell_type": "code",
      "source": [
        "from sklearn.model_selection import train_test_split, cross_val_score\n",
        "from sklearn.metrics import make_scorer\n",
        "\n",
        "# Создание пользовательской метрики\n",
        "r2_scorer = make_scorer(r2_score_knn_cv, greater_is_better=True)\n",
        "\n",
        "# Создание модели KNN\n",
        "knn_model_for_cv = KNeighborsRegressor(n_neighbors=5)  # Используем 5 соседей\n",
        "\n",
        "# Кросс-валидация с вычислением R²\n",
        "cv_scores = cross_val_score(knn_model_for_cv, X_scaled, y_scaled, cv=10, scoring=r2_scorer)\n",
        "\n",
        "# Вывод результатов кросс-валидации\n",
        "print(\"R² на каждом фолде:\", cv_scores)\n",
        "print(\"Средний R²:\", np.mean(cv_scores))"
      ],
      "metadata": {
        "colab": {
          "base_uri": "https://localhost:8080/"
        },
        "id": "6F-LNq0OkY8p",
        "outputId": "bb93fd0b-a6a3-45a9-86b3-99586fd78491"
      },
      "execution_count": null,
      "outputs": [
        {
          "output_type": "stream",
          "name": "stdout",
          "text": [
            "R² на каждом фолде: [0.100115   0.08638881 0.34541945 0.11274015 0.03733794 0.21261832\n",
            " 0.03003709 0.1055992  0.20538216 0.06264736]\n",
            "Средний R²: 0.12982854678429462\n"
          ]
        }
      ]
    },
    {
      "cell_type": "code",
      "source": [
        "# Обучение модели на всех данных\n",
        "knn_model_for_cv.fit(X_scaled, y_scaled)\n",
        "\n",
        "# Предсказание на всех данных (для визуализации)\n",
        "y_pred_scaled = knn_model_for_cv.predict(X_scaled)\n",
        "\n",
        "# Обратное преобразование для y_pred и y_scaled\n",
        "y_pred = scaler_y.inverse_transform(y_pred_scaled)\n",
        "y_original = scaler_y.inverse_transform(y_scaled)"
      ],
      "metadata": {
        "id": "zRwLOfRSkq59"
      },
      "execution_count": null,
      "outputs": []
    },
    {
      "cell_type": "code",
      "source": [
        "# Вычисление R²:\n",
        "r2 = r2_score_knn_cv(y_original, y_pred)\n",
        "print(\"R² на тестовой выборке:\", r2)"
      ],
      "metadata": {
        "colab": {
          "base_uri": "https://localhost:8080/"
        },
        "id": "j_oRSqzpoWMv",
        "outputId": "2119e153-610c-4d9a-8746-2e4c0293d4e8"
      },
      "execution_count": null,
      "outputs": [
        {
          "output_type": "stream",
          "name": "stdout",
          "text": [
            "R² на тестовой выборке: 0.17341358353724015\n"
          ]
        }
      ]
    },
    {
      "cell_type": "markdown",
      "source": [
        "# Нейросеть (Полносвязная)"
      ],
      "metadata": {
        "id": "SVsyF5-bth8t"
      }
    },
    {
      "cell_type": "code",
      "source": [
        "import tensorflow as tf\n",
        "import keras\n",
        "from keras import layers"
      ],
      "metadata": {
        "id": "SOWFbvzgt4ye"
      },
      "execution_count": null,
      "outputs": []
    },
    {
      "cell_type": "code",
      "source": [
        "# Разделение данных\n",
        "X_train, X_test, y_train, y_test = train_test_split(X_scaled, y_scaled, test_size=0.2, random_state=42)\n",
        "\n",
        "print(\"Размер обучающей выборки (X_train):\", X_train.shape)\n",
        "print(\"Размер тестовой выборки (X_test):\", X_test.shape)"
      ],
      "metadata": {
        "colab": {
          "base_uri": "https://localhost:8080/"
        },
        "id": "zjctlEH-tdmW",
        "outputId": "c2315e4e-6fe6-4d81-c5c8-b7eed6cece7b"
      },
      "execution_count": null,
      "outputs": [
        {
          "output_type": "stream",
          "name": "stdout",
          "text": [
            "Размер обучающей выборки (X_train): (8000, 576)\n",
            "Размер тестовой выборки (X_test): (2000, 576)\n"
          ]
        }
      ]
    },
    {
      "cell_type": "code",
      "source": [
        "print(\"Новая форма X_train:\", X_train.shape)\n",
        "print(\"Новая форма X_test:\", X_test.shape)"
      ],
      "metadata": {
        "colab": {
          "base_uri": "https://localhost:8080/"
        },
        "id": "HyMTtK1DpBEy",
        "outputId": "82b7da62-fb2b-4fa6-b466-95c5095983e3"
      },
      "execution_count": null,
      "outputs": [
        {
          "output_type": "stream",
          "name": "stdout",
          "text": [
            "Новая форма X_train: (8000, 576)\n",
            "Новая форма X_test: (2000, 576)\n"
          ]
        }
      ]
    },
    {
      "cell_type": "code",
      "source": [
        "# Параметры модели\n",
        "input_dim = X_train.shape[1]  # 576\n",
        "hidden_dim1 = 512  # Количество нейронов в первом скрытом слое\n",
        "hidden_dim2 = 256  # Количество нейронов во втором скрытом слое\n",
        "output_dim = y_train.shape[1]  # 576\n",
        "\n",
        "# Инициализация весов и biases\n",
        "W1 = tf.Variable(tf.random.normal([input_dim, hidden_dim1], stddev=0.1))\n",
        "b1 = tf.Variable(tf.zeros([hidden_dim1]))\n",
        "\n",
        "W2 = tf.Variable(tf.random.normal([hidden_dim1, hidden_dim2], stddev=0.1))\n",
        "b2 = tf.Variable(tf.zeros([hidden_dim2]))\n",
        "\n",
        "W3 = tf.Variable(tf.random.normal([hidden_dim2, output_dim], stddev=0.1))\n",
        "b3 = tf.Variable(tf.zeros([output_dim]))\n",
        "\n"
      ],
      "metadata": {
        "id": "qxYedKLG2k6I"
      },
      "execution_count": null,
      "outputs": []
    },
    {
      "cell_type": "code",
      "source": [
        "# Приведение данных к float32\n",
        "X_train = X_train.astype(np.float32)\n",
        "X_test = X_test.astype(np.float32)\n",
        "y_train = y_train.astype(np.float32)\n",
        "y_test = y_test.astype(np.float32)\n",
        "\n",
        "# Инициализация весов и biases с типом float32\n",
        "W1 = tf.Variable(tf.random.normal([input_dim, hidden_dim1], stddev=0.1\n",
        "                                  , dtype=tf.float32\n",
        "                                  ))\n",
        "b1 = tf.Variable(tf.zeros([hidden_dim1]\n",
        "                          ,dtype=tf.float32\n",
        "                          ))\n",
        "\n",
        "W2 = tf.Variable(tf.random.normal([hidden_dim1, hidden_dim2], stddev=0.1, dtype=tf.float32))\n",
        "b2 = tf.Variable(tf.zeros([hidden_dim2]\n",
        "                          , dtype=tf.float32\n",
        "                          ))\n",
        "\n",
        "W3 = tf.Variable(tf.random.normal([hidden_dim2, output_dim], stddev=0.1\n",
        "                                  , dtype=tf.float32\n",
        "                                  ))\n",
        "b3 = tf.Variable(tf.zeros([output_dim]\n",
        "                          , dtype=tf.float32\n",
        "                          ))\n",
        "\n",
        "# Функция для forward pass (прямого прохода)\n",
        "def forward_pass(X_scaled):\n",
        "    hidden1 = tf.nn.relu(tf.matmul(X_scaled, W1) + b1)\n",
        "    hidden2 = tf.nn.relu(tf.matmul(hidden1, W2) + b2)\n",
        "    output = tf.matmul(hidden2, W3) + b3\n",
        "    return output\n",
        "\n",
        "# Функция потерь (MSE)\n",
        "def compute_loss(y_true, y_pred):\n",
        "    return tf.reduce_mean(tf.square(y_true - y_pred))\n",
        "\n",
        "\n"
      ],
      "metadata": {
        "id": "8t11QqIf3_wA"
      },
      "execution_count": null,
      "outputs": []
    },
    {
      "cell_type": "code",
      "source": [
        "# Функция для вычисления R²\n",
        "def r2_score_nn(y_true, y_pred):\n",
        "    y_mean = np.mean(y_true, axis=0)\n",
        "    numerator = np.sum(np.abs(y_true - y_pred), axis=0)\n",
        "    denominator = np.sum(np.abs(y_true - y_mean), axis=0)\n",
        "    denominator = np.where(denominator == 0, 1e-10, denominator)\n",
        "    r2 = 1 - (numerator / denominator)\n",
        "    return np.mean(r2)"
      ],
      "metadata": {
        "id": "2dwTbWZEEZVt"
      },
      "execution_count": null,
      "outputs": []
    },
    {
      "cell_type": "code",
      "source": [
        "# Параметры обучения\n",
        "learning_rate = 0.001\n",
        "epochs = 5\n",
        "batch_size = 32\n",
        "\n",
        "# Оптимизатор\n",
        "optimizer = tf.optimizers.Adam(learning_rate)\n",
        "\n",
        "# Списки для сохранения значений R²\n",
        "train_r2_history = []\n",
        "val_r2_history = []\n",
        "\n",
        "# Обучение модели\n",
        "for epoch in range(epochs):\n",
        "    print(f\"Эпоха {epoch + 1}/{epochs}\")\n",
        "    for i in range(0, len(X_train), batch_size):\n",
        "        # Получаем батч данных\n",
        "        X_batch = X_train[i:i + batch_size]\n",
        "        y_batch = y_train[i:i + batch_size]\n",
        "\n",
        "        # Вычисляем градиенты и обновляем веса\n",
        "        with tf.GradientTape() as tape:\n",
        "            y_pred = forward_pass(X_batch)\n",
        "            loss = compute_loss(y_batch, y_pred)\n",
        "        gradients = tape.gradient(loss, [W1, b1, W2, b2, W3, b3])\n",
        "        optimizer.apply_gradients(zip(gradients, [W1, b1, W2, b2, W3, b3]))\n",
        "\n",
        "    # Вычисление R² на обучающей и тестовой выборках\n",
        "    y_train_pred_scaled = forward_pass(X_train)\n",
        "    y_test_pred_scaled = forward_pass(X_test)\n",
        "\n",
        "    # Обратное преобразование для y_pred\n",
        "    y_train_pred = scaler_y.inverse_transform(y_train_pred_scaled.numpy())\n",
        "    y_test_pred = scaler_y.inverse_transform(y_test_pred_scaled.numpy())\n",
        "\n",
        "    # Обратное преобразование для y_true\n",
        "    y_train_original = scaler_y.inverse_transform(y_train)\n",
        "    y_test_original = scaler_y.inverse_transform(y_test)\n",
        "\n",
        "    # Вычисление R²\n",
        "    train_r2 = r2_score_nn(y_train_original, y_train_pred)\n",
        "    val_r2 = r2_score_nn(y_test_original, y_test_pred)\n",
        "\n",
        "    # Сохранение значений R²\n",
        "    val_r2_history.append(val_r2)\n",
        "\n",
        "    print(f\"1- R² (валидация): {val_r2:.4f}\")"
      ],
      "metadata": {
        "colab": {
          "base_uri": "https://localhost:8080/"
        },
        "id": "vpaBrSc64BZ4",
        "outputId": "1550de02-0cb8-4661-d836-42bebcd99775"
      },
      "execution_count": null,
      "outputs": [
        {
          "output_type": "stream",
          "name": "stdout",
          "text": [
            "Эпоха 1/5\n",
            "1- R² (валидация): 0.0911\n",
            "Эпоха 2/5\n",
            "1- R² (валидация): 0.0719\n",
            "Эпоха 3/5\n",
            "1- R² (валидация): 0.0878\n",
            "Эпоха 4/5\n",
            "1- R² (валидация): 0.0956\n",
            "Эпоха 5/5\n",
            "1- R² (валидация): 0.0934\n"
          ]
        }
      ]
    },
    {
      "cell_type": "code",
      "source": [
        "# График 1 - R²\n",
        "plt.figure(figsize=(10, 6))\n",
        "plt.plot(val_r2_history, label='Валидационная выборка')\n",
        "plt.title('Изменение 1 - R² в процессе обучения')\n",
        "plt.xlabel('Эпоха')\n",
        "plt.ylabel('1 - R²')\n",
        "plt.legend()\n",
        "plt.grid(True)\n",
        "plt.show()"
      ],
      "metadata": {
        "colab": {
          "base_uri": "https://localhost:8080/",
          "height": 564
        },
        "id": "8eIBKPEn-WKT",
        "outputId": "b9f2154e-9220-4613-aaa0-60362a8fdf05"
      },
      "execution_count": null,
      "outputs": [
        {
          "output_type": "display_data",
          "data": {
            "text/plain": [
              "<Figure size 1000x600 with 1 Axes>"
            ],
            "image/png": "[encoded data removed]"
          },
          "metadata": {}
        }
      ]
    },
    {
      "cell_type": "markdown",
      "source": [
        "# Нейросеть (Сверточная)"
      ],
      "metadata": {
        "id": "UOxEVWgTsvX6"
      }
    },
    {
      "cell_type": "code",
      "source": [
        "# Для CNN\n",
        "import tensorflow as tf\n",
        "import keras\n",
        "from keras import Sequential\n",
        "from keras import layers\n",
        "from keras import models"
      ],
      "metadata": {
        "id": "0lkaXeDr-JVP"
      },
      "execution_count": null,
      "outputs": []
    },
    {
      "cell_type": "code",
      "source": [
        "# Преобразование данных в numpy массивы\n",
        "X = input_data.values  # Размерность: 10000 x 576\n",
        "y = output_data.values  # Размерность: 10000 x 576"
      ],
      "metadata": {
        "id": "pdOic4xkEUiX"
      },
      "execution_count": null,
      "outputs": []
    },
    {
      "cell_type": "code",
      "source": [
        "# Удаление первого столбца (индексы)\n",
        "X = X[:, 1:]  # Все строки, начиная со второго столбца"
      ],
      "metadata": {
        "id": "dB0SR2s-GRrC"
      },
      "execution_count": null,
      "outputs": []
    },
    {
      "cell_type": "code",
      "source": [
        "# Нормализация входных данных\n",
        "scaler_X = StandardScaler()\n",
        "X_scaled = scaler_X.fit_transform(X)\n",
        "\n",
        "# Нормализация выходных данных\n",
        "scaler_y = StandardScaler()\n",
        "y_scaled = scaler_y.fit_transform(y)"
      ],
      "metadata": {
        "id": "N-wa2mljGNEU"
      },
      "execution_count": null,
      "outputs": []
    },
    {
      "cell_type": "code",
      "source": [
        "# Проверка формы данных\n",
        "print(f\"Форма X: {X_scaled.shape}\")  # Должно быть (10000, 576)\n",
        "print(f\"Форма y: {y_scaled.shape}\")  # Должно быть (10000, 576)"
      ],
      "metadata": {
        "colab": {
          "base_uri": "https://localhost:8080/"
        },
        "id": "TA9JEBAdGRKu",
        "outputId": "dc977c83-99dc-47f0-e7e8-7f57b49cf9d8"
      },
      "execution_count": null,
      "outputs": [
        {
          "output_type": "stream",
          "name": "stdout",
          "text": [
            "Форма X: (10000, 576)\n",
            "Форма y: (10000, 576)\n"
          ]
        }
      ]
    },
    {
      "cell_type": "code",
      "source": [
        "# Разделение данных на обучающую и тестовую выборки\n",
        "X_train, X_test, y_train, y_test = train_test_split(X_scaled, y_scaled, test_size=0.2, random_state=42)"
      ],
      "metadata": {
        "id": "a1iJ8PFNEVXU"
      },
      "execution_count": null,
      "outputs": []
    },
    {
      "cell_type": "code",
      "source": [
        "# Создание модели\n",
        "input_layer = tf.keras.layers.Input(shape=(576,))\n",
        "x = tf.keras.layers.Dense(1024, activation='relu')(input_layer)\n",
        "x = tf.keras.layers.Dropout(0.3)(x)\n",
        "x = tf.keras.layers.Dense(512, activation='relu')(x)\n",
        "x = tf.keras.layers.Dropout(0.3)(x)\n",
        "output_layer = tf.keras.layers.Dense(576)(x)  # Выходной слой с 576 нейронами (по одному на каждый признак)\n",
        "\n",
        "model_cnn = tf.keras.models.Model(inputs=input_layer, outputs=output_layer)\n",
        "model_cnn.compile(optimizer='adam', loss='mse')\n",
        "\n",
        "\n"
      ],
      "metadata": {
        "id": "peLtDWMQEasw"
      },
      "execution_count": null,
      "outputs": []
    },
    {
      "cell_type": "code",
      "source": [
        "# Функция для расчета R² на каждой эпохе\n",
        "class R2Callback(tf.keras.callbacks.Callback):\n",
        "    def on_epoch_end(self, epoch, logs=None):\n",
        "        y_pred = self.model.predict(X_test)\n",
        "        r2 = r2_score_nn(y_test, y_pred)  # Средний R² по всем выходам\n",
        "        print(f\"Epoch {epoch+1}: R² = {r2:.4f}\")"
      ],
      "metadata": {
        "id": "YEM28m1MFR6t"
      },
      "execution_count": null,
      "outputs": []
    },
    {
      "cell_type": "code",
      "source": [
        "# Обучение модели\n",
        "history = model_cnn.fit(X_train, y_train, epochs=5, batch_size=32,\n",
        "                    validation_split=0.2, callbacks=[R2Callback()])\n"
      ],
      "metadata": {
        "colab": {
          "base_uri": "https://localhost:8080/"
        },
        "id": "0OJnutIRFYhc",
        "outputId": "886b3155-b114-4858-fbf2-031d7a86f188"
      },
      "execution_count": null,
      "outputs": [
        {
          "output_type": "stream",
          "name": "stdout",
          "text": [
            "Epoch 1/5\n",
            "\u001b[1m63/63\u001b[0m \u001b[32m━━━━━━━━━━━━━━━━━━━━\u001b[0m\u001b[37m\u001b[0m \u001b[1m0s\u001b[0m 7ms/step\n",
            "Epoch 1: R² = 0.1495\n",
            "\u001b[1m200/200\u001b[0m \u001b[32m━━━━━━━━━━━━━━━━━━━━\u001b[0m\u001b[37m\u001b[0m \u001b[1m9s\u001b[0m 47ms/step - loss: 0.2461 - val_loss: 1.0180\n",
            "Epoch 2/5\n",
            "\u001b[1m63/63\u001b[0m \u001b[32m━━━━━━━━━━━━━━━━━━━━\u001b[0m\u001b[37m\u001b[0m \u001b[1m0s\u001b[0m 5ms/step\n",
            "Epoch 2: R² = 0.1236\n",
            "\u001b[1m200/200\u001b[0m \u001b[32m━━━━━━━━━━━━━━━━━━━━\u001b[0m\u001b[37m\u001b[0m \u001b[1m7s\u001b[0m 32ms/step - loss: 0.2569 - val_loss: 1.0144\n",
            "Epoch 3/5\n",
            "\u001b[1m63/63\u001b[0m \u001b[32m━━━━━━━━━━━━━━━━━━━━\u001b[0m\u001b[37m\u001b[0m \u001b[1m0s\u001b[0m 5ms/step\n",
            "Epoch 3: R² = 0.1704\n",
            "\u001b[1m200/200\u001b[0m \u001b[32m━━━━━━━━━━━━━━━━━━━━\u001b[0m\u001b[37m\u001b[0m \u001b[1m10s\u001b[0m 32ms/step - loss: 0.2858 - val_loss: 1.0081\n",
            "Epoch 4/5\n",
            "\u001b[1m63/63\u001b[0m \u001b[32m━━━━━━━━━━━━━━━━━━━━\u001b[0m\u001b[37m\u001b[0m \u001b[1m1s\u001b[0m 8ms/step\n",
            "Epoch 4: R² = 0.1456\n",
            "\u001b[1m200/200\u001b[0m \u001b[32m━━━━━━━━━━━━━━━━━━━━\u001b[0m\u001b[37m\u001b[0m \u001b[1m9s\u001b[0m 28ms/step - loss: 0.2373 - val_loss: 0.9995\n",
            "Epoch 5/5\n",
            "\u001b[1m63/63\u001b[0m \u001b[32m━━━━━━━━━━━━━━━━━━━━\u001b[0m\u001b[37m\u001b[0m \u001b[1m0s\u001b[0m 5ms/step\n",
            "Epoch 5: R² = 0.1933\n",
            "\u001b[1m200/200\u001b[0m \u001b[32m━━━━━━━━━━━━━━━━━━━━\u001b[0m\u001b[37m\u001b[0m \u001b[1m10s\u001b[0m 24ms/step - loss: 0.2114 - val_loss: 0.9971\n"
          ]
        }
      ]
    },
    {
      "cell_type": "code",
      "source": [],
      "metadata": {
        "id": "gE8O___OH-6x"
      },
      "execution_count": null,
      "outputs": []
    }
  ],
  "metadata": {
    "colab": {
      "provenance": []
    },
    "kernelspec": {
      "display_name": "Python 3",
      "name": "python3"
    }
  },
  "nbformat": 4,
  "nbformat_minor": 0
}