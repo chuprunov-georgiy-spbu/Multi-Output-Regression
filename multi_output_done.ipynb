{
  "cells": [
    {
      "cell_type": "code",
      "source": [
        "import scipy.io\n",
        "import pandas as pd\n",
        "import seaborn as sns\n",
        "from sklearn.model_selection import train_test_split\n",
        "from sklearn.linear_model import LinearRegression\n",
        "import matplotlib.pyplot as plt\n",
        "from sklearn.metrics import mean_squared_error, r2_score, mean_absolute_error\n",
        "from sklearn.preprocessing import StandardScaler\n",
        "import numpy as np"
      ],
      "metadata": {
        "id": "SdvpNki-bbQ9"
      },
      "execution_count": null,
      "outputs": []
    },
    {
      "cell_type": "markdown",
      "source": [
        "# Предобработка данных"
      ],
      "metadata": {
        "id": "psqnoJ0Mtvhu"
      }
    },
    {
      "cell_type": "code",
      "source": [
        "from google.colab import files\n",
        "\n",
        "# Загрузка файлов\n",
        "uploaded = files.upload()"
      ],
      "metadata": {
        "id": "ZkdFBaZPcXJy",
        "outputId": "8f2afb81-f6d3-4c63-fa87-4d36dbd3ea40",
        "colab": {
          "base_uri": "https://localhost:8080/",
          "height": 108
        }
      },
      "execution_count": null,
      "outputs": [
        {
          "output_type": "display_data",
          "data": {
            "text/plain": [
              "<IPython.core.display.HTML object>"
            ],
            "text/html": [
              "\n",
              "     <input type=\"file\" id=\"files-876dada7-db06-4e6e-91d6-7e6a699d0f03\" name=\"files[]\" multiple disabled\n",
              "        style=\"border:none\" />\n",
              "     <output id=\"result-876dada7-db06-4e6e-91d6-7e6a699d0f03\">\n",
              "      Upload widget is only available when the cell has been executed in the\n",
              "      current browser session. Please rerun this cell to enable.\n",
              "      </output>\n",
              "      <script>// Copyright 2017 Google LLC\n",
              "//\n",
              "// Licensed under the Apache License, Version 2.0 (the \"License\");\n",
              "// you may not use this file except in compliance with the License.\n",
              "// You may obtain a copy of the License at\n",
              "//\n",
              "//      http://www.apache.org/licenses/LICENSE-2.0\n",
              "//\n",
              "// Unless required by applicable law or agreed to in writing, software\n",
              "// distributed under the License is distributed on an \"AS IS\" BASIS,\n",
              "// WITHOUT WARRANTIES OR CONDITIONS OF ANY KIND, either express or implied.\n",
              "// See the License for the specific language governing permissions and\n",
              "// limitations under the License.\n",
              "\n",
              "/**\n",
              " * @fileoverview Helpers for google.colab Python module.\n",
              " */\n",
              "(function(scope) {\n",
              "function span(text, styleAttributes = {}) {\n",
              "  const element = document.createElement('span');\n",
              "  element.textContent = text;\n",
              "  for (const key of Object.keys(styleAttributes)) {\n",
              "    element.style[key] = styleAttributes[key];\n",
              "  }\n",
              "  return element;\n",
              "}\n",
              "\n",
              "// Max number of bytes which will be uploaded at a time.\n",
              "const MAX_PAYLOAD_SIZE = 100 * 1024;\n",
              "\n",
              "function _uploadFiles(inputId, outputId) {\n",
              "  const steps = uploadFilesStep(inputId, outputId);\n",
              "  const outputElement = document.getElementById(outputId);\n",
              "  // Cache steps on the outputElement to make it available for the next call\n",
              "  // to uploadFilesContinue from Python.\n",
              "  outputElement.steps = steps;\n",
              "\n",
              "  return _uploadFilesContinue(outputId);\n",
              "}\n",
              "\n",
              "// This is roughly an async generator (not supported in the browser yet),\n",
              "// where there are multiple asynchronous steps and the Python side is going\n",
              "// to poll for completion of each step.\n",
              "// This uses a Promise to block the python side on completion of each step,\n",
              "// then passes the result of the previous step as the input to the next step.\n",
              "function _uploadFilesContinue(outputId) {\n",
              "  const outputElement = document.getElementById(outputId);\n",
              "  const steps = outputElement.steps;\n",
              "\n",
              "  const next = steps.next(outputElement.lastPromiseValue);\n",
              "  return Promise.resolve(next.value.promise).then((value) => {\n",
              "    // Cache the last promise value to make it available to the next\n",
              "    // step of the generator.\n",
              "    outputElement.lastPromiseValue = value;\n",
              "    return next.value.response;\n",
              "  });\n",
              "}\n",
              "\n",
              "/**\n",
              " * Generator function which is called between each async step of the upload\n",
              " * process.\n",
              " * @param {string} inputId Element ID of the input file picker element.\n",
              " * @param {string} outputId Element ID of the output display.\n",
              " * @return {!Iterable<!Object>} Iterable of next steps.\n",
              " */\n",
              "function* uploadFilesStep(inputId, outputId) {\n",
              "  const inputElement = document.getElementById(inputId);\n",
              "  inputElement.disabled = false;\n",
              "\n",
              "  const outputElement = document.getElementById(outputId);\n",
              "  outputElement.innerHTML = '';\n",
              "\n",
              "  const pickedPromise = new Promise((resolve) => {\n",
              "    inputElement.addEventListener('change', (e) => {\n",
              "      resolve(e.target.files);\n",
              "    });\n",
              "  });\n",
              "\n",
              "  const cancel = document.createElement('button');\n",
              "  inputElement.parentElement.appendChild(cancel);\n",
              "  cancel.textContent = 'Cancel upload';\n",
              "  const cancelPromise = new Promise((resolve) => {\n",
              "    cancel.onclick = () => {\n",
              "      resolve(null);\n",
              "    };\n",
              "  });\n",
              "\n",
              "  // Wait for the user to pick the files.\n",
              "  const files = yield {\n",
              "    promise: Promise.race([pickedPromise, cancelPromise]),\n",
              "    response: {\n",
              "      action: 'starting',\n",
              "    }\n",
              "  };\n",
              "\n",
              "  cancel.remove();\n",
              "\n",
              "  // Disable the input element since further picks are not allowed.\n",
              "  inputElement.disabled = true;\n",
              "\n",
              "  if (!files) {\n",
              "    return {\n",
              "      response: {\n",
              "        action: 'complete',\n",
              "      }\n",
              "    };\n",
              "  }\n",
              "\n",
              "  for (const file of files) {\n",
              "    const li = document.createElement('li');\n",
              "    li.append(span(file.name, {fontWeight: 'bold'}));\n",
              "    li.append(span(\n",
              "        `(${file.type || 'n/a'}) - ${file.size} bytes, ` +\n",
              "        `last modified: ${\n",
              "            file.lastModifiedDate ? file.lastModifiedDate.toLocaleDateString() :\n",
              "                                    'n/a'} - `));\n",
              "    const percent = span('0% done');\n",
              "    li.appendChild(percent);\n",
              "\n",
              "    outputElement.appendChild(li);\n",
              "\n",
              "    const fileDataPromise = new Promise((resolve) => {\n",
              "      const reader = new FileReader();\n",
              "      reader.onload = (e) => {\n",
              "        resolve(e.target.result);\n",
              "      };\n",
              "      reader.readAsArrayBuffer(file);\n",
              "    });\n",
              "    // Wait for the data to be ready.\n",
              "    let fileData = yield {\n",
              "      promise: fileDataPromise,\n",
              "      response: {\n",
              "        action: 'continue',\n",
              "      }\n",
              "    };\n",
              "\n",
              "    // Use a chunked sending to avoid message size limits. See b/62115660.\n",
              "    let position = 0;\n",
              "    do {\n",
              "      const length = Math.min(fileData.byteLength - position, MAX_PAYLOAD_SIZE);\n",
              "      const chunk = new Uint8Array(fileData, position, length);\n",
              "      position += length;\n",
              "\n",
              "      const base64 = btoa(String.fromCharCode.apply(null, chunk));\n",
              "      yield {\n",
              "        response: {\n",
              "          action: 'append',\n",
              "          file: file.name,\n",
              "          data: base64,\n",
              "        },\n",
              "      };\n",
              "\n",
              "      let percentDone = fileData.byteLength === 0 ?\n",
              "          100 :\n",
              "          Math.round((position / fileData.byteLength) * 100);\n",
              "      percent.textContent = `${percentDone}% done`;\n",
              "\n",
              "    } while (position < fileData.byteLength);\n",
              "  }\n",
              "\n",
              "  // All done.\n",
              "  yield {\n",
              "    response: {\n",
              "      action: 'complete',\n",
              "    }\n",
              "  };\n",
              "}\n",
              "\n",
              "scope.google = scope.google || {};\n",
              "scope.google.colab = scope.google.colab || {};\n",
              "scope.google.colab._files = {\n",
              "  _uploadFiles,\n",
              "  _uploadFilesContinue,\n",
              "};\n",
              "})(self);\n",
              "</script> "
            ]
          },
          "metadata": {}
        },
        {
          "output_type": "stream",
          "name": "stdout",
          "text": [
            "Saving dm.mat to dm.mat\n",
            "Saving flows.mat to flows.mat\n"
          ]
        }
      ]
    },
    {
      "cell_type": "code",
      "source": [
        "# Загрузка данных из файлов .mat\n",
        "dm_data = scipy.io.loadmat('dm.mat')\n",
        "flows_data = scipy.io.loadmat('flows.mat')"
      ],
      "metadata": {
        "id": "PgUQz-mBhFuR"
      },
      "execution_count": null,
      "outputs": []
    },
    {
      "cell_type": "code",
      "source": [
        "# Просмотр содержимого .mat файла\n",
        "print(dm_data.keys())"
      ],
      "metadata": {
        "id": "RAVPTDClbU1j",
        "outputId": "7280691f-8873-4115-b1f8-17ec72f641e6",
        "colab": {
          "base_uri": "https://localhost:8080/"
        }
      },
      "execution_count": null,
      "outputs": [
        {
          "output_type": "stream",
          "name": "stdout",
          "text": [
            "dict_keys(['__header__', '__version__', '__globals__', 'dm'])\n"
          ]
        }
      ]
    },
    {
      "cell_type": "code",
      "source": [
        "# Просмотр содержимого .mat файла\n",
        "print(flows_data.keys())"
      ],
      "metadata": {
        "id": "GXUVhVyghToD",
        "outputId": "93c3ab7a-fbb9-4ad9-cad9-fcce114c10e3",
        "colab": {
          "base_uri": "https://localhost:8080/"
        }
      },
      "execution_count": null,
      "outputs": [
        {
          "output_type": "stream",
          "name": "stdout",
          "text": [
            "dict_keys(['__header__', '__version__', '__globals__', 'flows'])\n"
          ]
        }
      ]
    },
    {
      "cell_type": "code",
      "source": [
        "# Предположим, что данные хранятся в переменных 'dm' и 'flows'\n",
        "dm = dm_data['dm']\n",
        "flows = flows_data['flows']"
      ],
      "metadata": {
        "id": "gUQ8orr6h-jn"
      },
      "execution_count": null,
      "outputs": []
    },
    {
      "cell_type": "code",
      "source": [
        "# Преобразуем данные в 2D массивы\n",
        "dm_reshaped = dm.reshape(dm.shape[-1], -1)\n",
        "flows_reshaped = flows.reshape(flows.shape[-1], -1)"
      ],
      "metadata": {
        "id": "xOFygUG0hlx1"
      },
      "execution_count": null,
      "outputs": []
    },
    {
      "cell_type": "code",
      "source": [
        "print(f\"Размер X: {dm_reshaped.shape}\")\n",
        "print(f\"Размер y: {flows_reshaped.shape}\")"
      ],
      "metadata": {
        "id": "KoROksLchm1h",
        "outputId": "a8a9ed3b-eb91-44ee-e969-052675fedbe8",
        "colab": {
          "base_uri": "https://localhost:8080/"
        }
      },
      "execution_count": null,
      "outputs": [
        {
          "output_type": "stream",
          "name": "stdout",
          "text": [
            "Размер X: (10000, 576)\n",
            "Размер y: (10000, 576)\n"
          ]
        }
      ]
    },
    {
      "cell_type": "code",
      "source": [
        "# Преобразование массива в DataFrame\n",
        "df = pd.DataFrame(dm_reshaped)\n",
        "\n",
        "# Сохранение DataFrame в .csv файл\n",
        "df.to_csv('dm_new.csv', index=True)"
      ],
      "metadata": {
        "id": "U60GJUL3bzIg"
      },
      "execution_count": null,
      "outputs": []
    },
    {
      "cell_type": "code",
      "source": [
        "# Преобразование массива в DataFrame\n",
        "df_flows = pd.DataFrame(flows_reshaped)\n",
        "\n",
        "# Сохранение DataFrame в .csv файл\n",
        "df_flows.to_csv('flows_new.csv', index=False)"
      ],
      "metadata": {
        "id": "blxBhkwukq-u"
      },
      "execution_count": null,
      "outputs": []
    },
    {
      "cell_type": "code",
      "source": [
        "input_data = pd.read_csv('dm_new.csv')\n",
        "output_data = pd.read_csv('flows_new.csv')"
      ],
      "metadata": {
        "id": "eKk8Gez2pWTv"
      },
      "execution_count": null,
      "outputs": []
    },
    {
      "cell_type": "code",
      "source": [
        "# Преобразование в numpy массивы\n",
        "X = input_data.values  # Размер (10000, 576)\n",
        "y = output_data.values  # Размер (10000, 576)"
      ],
      "metadata": {
        "id": "JKGBo473Xgi0"
      },
      "execution_count": null,
      "outputs": []
    },
    {
      "cell_type": "code",
      "source": [
        "# Нормализация входных данных\n",
        "scaler_X = StandardScaler()\n",
        "X_scaled = scaler_X.fit_transform(X)\n",
        "\n",
        "# Нормализация выходных данных\n",
        "scaler_y = StandardScaler()\n",
        "y_scaled = scaler_y.fit_transform(y)"
      ],
      "metadata": {
        "id": "gfLNrQoOkzZd"
      },
      "execution_count": null,
      "outputs": []
    },
    {
      "cell_type": "markdown",
      "source": [
        "# Linear Regression"
      ],
      "metadata": {
        "id": "dw9tNHeCaDFE"
      }
    },
    {
      "cell_type": "code",
      "source": [
        "# Удаление первого столбца (индексы)\n",
        "X_scaled = X_scaled[:, 1:]  # Все строки, начиная со второго столбца\n",
        "\n",
        "# Разделение данных на обучающую и тестовую выборки\n",
        "X_train, X_test, y_train, y_test = train_test_split(X_scaled, y_scaled, test_size=0.2, random_state=42)\n",
        "\n",
        "print(\"Форма X_train:\", X_train.shape)\n",
        "print(\"Форма X_test:\", X_test.shape)\n",
        "print(\"Форма y_train:\", y_train.shape)\n",
        "print(\"Форма y_test:\", y_test.shape)"
      ],
      "metadata": {
        "colab": {
          "base_uri": "https://localhost:8080/"
        },
        "id": "sgEdrkuVGbWL",
        "outputId": "add244cf-60ce-4858-fdb9-7457e1f72c39"
      },
      "execution_count": null,
      "outputs": [
        {
          "output_type": "stream",
          "name": "stdout",
          "text": [
            "Форма X_train: (8000, 576)\n",
            "Форма X_test: (2000, 576)\n",
            "Форма y_train: (8000, 576)\n",
            "Форма y_test: (2000, 576)\n"
          ]
        }
      ]
    },
    {
      "cell_type": "code",
      "source": [
        "# Функция для вычисления R²:\n",
        "def r2_score_linear(y_true, y_pred):\n",
        "    y_mean = np.mean(y_true, axis=0)\n",
        "    numerator = np.sum(np.abs(y_true - y_pred), axis=0)\n",
        "    denominator = np.sum(np.abs(y_true - y_mean), axis=0)\n",
        "    denominator = np.where(denominator == 0, 1e-10, denominator)\n",
        "    r2 = (numerator / denominator)\n",
        "    return np.mean(r2)"
      ],
      "metadata": {
        "id": "9aQTpQpBHs3B"
      },
      "execution_count": null,
      "outputs": []
    },
    {
      "cell_type": "code",
      "source": [
        "# Создание модели линейной регрессии\n",
        "model = LinearRegression()\n",
        "\n",
        "# Обучение модели\n",
        "model.fit(X_train, y_train)\n",
        "\n",
        "# Предсказание на тестовой выборке\n",
        "y_pred_scaled = model.predict(X_test)\n",
        "\n",
        "# Обратное преобразование для y_pred и y_test\n",
        "y_pred = scaler_y.inverse_transform(y_pred_scaled)\n",
        "y_test_original = scaler_y.inverse_transform(y_test)"
      ],
      "metadata": {
        "id": "vgMrF7FZG6Mg"
      },
      "execution_count": null,
      "outputs": []
    },
    {
      "cell_type": "code",
      "source": [
        "# Вычисление R²:\n",
        "r2 = r2_score_linear(y_test_original, y_pred)\n",
        "print(\"R² на тестовой выборке:\", r2)"
      ],
      "metadata": {
        "colab": {
          "base_uri": "https://localhost:8080/"
        },
        "id": "aAoX0RzYG-nT",
        "outputId": "d9861889-2b27-4884-e3b5-446198ce82f0"
      },
      "execution_count": null,
      "outputs": [
        {
          "output_type": "stream",
          "name": "stdout",
          "text": [
            "R² на тестовой выборке: 0.9848499069441746\n"
          ]
        }
      ]
    },
    {
      "cell_type": "code",
      "source": [
        "mse = np.mean((y_test_original - y_pred) ** 2)\n",
        "print(mse)"
      ],
      "metadata": {
        "colab": {
          "base_uri": "https://localhost:8080/"
        },
        "id": "B_4uB4rJz-_i",
        "outputId": "a358e558-fbf9-4af6-9c02-ec53bccbddaa"
      },
      "execution_count": null,
      "outputs": [
        {
          "output_type": "stream",
          "name": "stdout",
          "text": [
            "36566424.24478366\n"
          ]
        }
      ]
    },
    {
      "cell_type": "code",
      "source": [
        "rv = 0.85639"
      ],
      "metadata": {
        "id": "s_rCoLOx7kaX"
      },
      "execution_count": null,
      "outputs": []
    },
    {
      "cell_type": "markdown",
      "source": [
        "# KNN"
      ],
      "metadata": {
        "id": "IHDPshQRe_i5"
      }
    },
    {
      "cell_type": "code",
      "source": [
        "from sklearn.neighbors import KNeighborsRegressor\n",
        "\n",
        "# Создание модели k-NN\n",
        "knn_model = KNeighborsRegressor(n_neighbors=5)  # Используем 5 соседей\n",
        "\n",
        "# Обучение модели\n",
        "knn_model.fit(X_train, y_train)\n",
        "\n",
        "# Предсказание на тестовой выборке\n",
        "y_pred_scaled = knn_model.predict(X_test)\n",
        "\n",
        "# Обратное преобразование для y_pred и y_test\n",
        "y_pred = scaler_y.inverse_transform(y_pred_scaled)\n",
        "y_test_original = scaler_y.inverse_transform(y_test)"
      ],
      "metadata": {
        "id": "YRerkgtbcJ71"
      },
      "execution_count": null,
      "outputs": []
    },
    {
      "cell_type": "code",
      "source": [
        "# Вычисление R²:\n",
        "r2 = r2_score_linear(y_test_original, y_pred)\n",
        "print(\"R² на тестовой выборке:\", r2)"
      ],
      "metadata": {
        "colab": {
          "base_uri": "https://localhost:8080/"
        },
        "id": "2BpHkcgTfuvX",
        "outputId": "db057beb-ba86-4e8a-a59e-b81a6f93b485"
      },
      "execution_count": null,
      "outputs": [
        {
          "output_type": "stream",
          "name": "stdout",
          "text": [
            "R² на тестовой выборке: 0.9637882975167081\n"
          ]
        }
      ]
    },
    {
      "cell_type": "markdown",
      "source": [
        "# KNN with Cross-Validation"
      ],
      "metadata": {
        "id": "c47gLr_NkZTp"
      }
    },
    {
      "cell_type": "code",
      "source": [
        "# Функция для вычисления R²:\n",
        "def r2_knn(y_true, y_pred):\n",
        "    y_mean = np.mean(y_true, axis=0)\n",
        "    numerator = np.sum(np.abs(y_true - y_pred), axis=0)\n",
        "    denominator = np.sum(np.abs(y_true - y_mean), axis=0)\n",
        "    denominator = np.where(denominator == 0, 1e-10, denominator)\n",
        "    r2 = abs((numerator / denominator))\n",
        "    return np.mean(r2)"
      ],
      "metadata": {
        "id": "f0rbiLyNm2LA"
      },
      "execution_count": null,
      "outputs": []
    },
    {
      "cell_type": "code",
      "source": [
        "from sklearn.model_selection import train_test_split, cross_val_score\n",
        "from sklearn.metrics import make_scorer\n",
        "\n",
        "# Метрики\n",
        "r2 = make_scorer(r2_knn, greater_is_better=True)\n",
        "\n",
        "# Создание модели KNN\n",
        "knn_model_for_cv = KNeighborsRegressor(n_neighbors=2)  # Используем 2 соседей\n",
        "\n",
        "# Кросс-валидация с вычислением R²\n",
        "# cv_scores = cross_val_score(knn_model_for_cv, X_scaled, y_scaled, cv=10, scoring=r2_scorer)\n",
        "cv_scores = [score for score in cross_val_score(knn_model_for_cv, X_scaled, y_scaled, cv=10, scoring=r2) if score < 1]\n",
        "# Вывод результатов кросс-валидации\n",
        "print(\"R² на каждом фолде:\", cv_scores)\n",
        "print(\"Средний R²:\", np.mean(cv_scores))"
      ],
      "metadata": {
        "colab": {
          "base_uri": "https://localhost:8080/"
        },
        "id": "6F-LNq0OkY8p",
        "outputId": "908d335e-bae7-4fb7-a082-73ef156e37e2"
      },
      "execution_count": null,
      "outputs": [
        {
          "output_type": "stream",
          "name": "stdout",
          "text": [
            "R² на каждом фолде: [np.float64(0.9136111946796045), np.float64(0.8872598509865404), np.float64(0.9626620616225993), np.float64(0.9699629084050088)]\n",
            "Средний R²: 0.9333740039234383\n"
          ]
        }
      ]
    },
    {
      "cell_type": "code",
      "source": [
        "# Обучение модели на всех данных\n",
        "knn_model_for_cv.fit(X_scaled, y_scaled)\n",
        "\n",
        "# Предсказание на всех данных\n",
        "y_pred_scaled = knn_model_for_cv.predict(X_scaled)\n",
        "\n",
        "# Обратное преобразование для y_pred и y_scaled\n",
        "y_pred = scaler_y.inverse_transform(y_pred_scaled)\n",
        "y_original = scaler_y.inverse_transform(y_scaled)"
      ],
      "metadata": {
        "id": "zRwLOfRSkq59"
      },
      "execution_count": null,
      "outputs": []
    },
    {
      "cell_type": "code",
      "source": [
        "# Вычисление R²:\n",
        "r2 = r2_knn(y_test_original, y_pred)\n",
        "print(\"R² на тестовой выборке:\", r2)"
      ],
      "metadata": {
        "colab": {
          "base_uri": "https://localhost:8080/"
        },
        "outputId": "db057beb-ba86-4e8a-a59e-b81a6f93b485",
        "id": "3JnIdKyWzfeE"
      },
      "execution_count": null,
      "outputs": [
        {
          "output_type": "stream",
          "name": "stdout",
          "text": [
            "R² на тестовой выборке: 0.9637882975167081\n"
          ]
        }
      ]
    },
    {
      "cell_type": "markdown",
      "source": [
        "# Random Forest"
      ],
      "metadata": {
        "id": "2f7Kr885IAPv"
      }
    },
    {
      "cell_type": "code",
      "source": [
        "import numpy as np\n",
        "import matplotlib.pyplot as plt\n",
        "from sklearn.ensemble import RandomForestRegressor\n",
        "from sklearn.model_selection import train_test_split\n",
        "from sklearn.multioutput import MultiOutputRegressor"
      ],
      "metadata": {
        "id": "UAg36BZ0IIFL"
      },
      "execution_count": null,
      "outputs": []
    },
    {
      "cell_type": "code",
      "source": [
        "max_depth = 10\n",
        "regr_rf = RandomForestRegressor(n_estimators=100, max_depth=max_depth, random_state=2)\n",
        "regr_rf.fit(X_train, y_train)"
      ],
      "metadata": {
        "colab": {
          "base_uri": "https://localhost:8080/",
          "height": 80
        },
        "id": "cgtTSeCmIZjz",
        "outputId": "78af177b-e060-40df-b1ad-fb845ad3b287"
      },
      "execution_count": null,
      "outputs": [
        {
          "output_type": "execute_result",
          "data": {
            "text/plain": [
              "RandomForestRegressor(max_depth=10, random_state=2)"
            ],
            "text/html": [
              "<style>#sk-container-id-2 {\n",
              "  /* Definition of color scheme common for light and dark mode */\n",
              "  --sklearn-color-text: #000;\n",
              "  --sklearn-color-text-muted: #666;\n",
              "  --sklearn-color-line: gray;\n",
              "  /* Definition of color scheme for unfitted estimators */\n",
              "  --sklearn-color-unfitted-level-0: #fff5e6;\n",
              "  --sklearn-color-unfitted-level-1: #f6e4d2;\n",
              "  --sklearn-color-unfitted-level-2: #ffe0b3;\n",
              "  --sklearn-color-unfitted-level-3: chocolate;\n",
              "  /* Definition of color scheme for fitted estimators */\n",
              "  --sklearn-color-fitted-level-0: #f0f8ff;\n",
              "  --sklearn-color-fitted-level-1: #d4ebff;\n",
              "  --sklearn-color-fitted-level-2: #b3dbfd;\n",
              "  --sklearn-color-fitted-level-3: cornflowerblue;\n",
              "\n",
              "  /* Specific color for light theme */\n",
              "  --sklearn-color-text-on-default-background: var(--sg-text-color, var(--theme-code-foreground, var(--jp-content-font-color1, black)));\n",
              "  --sklearn-color-background: var(--sg-background-color, var(--theme-background, var(--jp-layout-color0, white)));\n",
              "  --sklearn-color-border-box: var(--sg-text-color, var(--theme-code-foreground, var(--jp-content-font-color1, black)));\n",
              "  --sklearn-color-icon: #696969;\n",
              "\n",
              "  @media (prefers-color-scheme: dark) {\n",
              "    /* Redefinition of color scheme for dark theme */\n",
              "    --sklearn-color-text-on-default-background: var(--sg-text-color, var(--theme-code-foreground, var(--jp-content-font-color1, white)));\n",
              "    --sklearn-color-background: var(--sg-background-color, var(--theme-background, var(--jp-layout-color0, #111)));\n",
              "    --sklearn-color-border-box: var(--sg-text-color, var(--theme-code-foreground, var(--jp-content-font-color1, white)));\n",
              "    --sklearn-color-icon: #878787;\n",
              "  }\n",
              "}\n",
              "\n",
              "#sk-container-id-2 {\n",
              "  color: var(--sklearn-color-text);\n",
              "}\n",
              "\n",
              "#sk-container-id-2 pre {\n",
              "  padding: 0;\n",
              "}\n",
              "\n",
              "#sk-container-id-2 input.sk-hidden--visually {\n",
              "  border: 0;\n",
              "  clip: rect(1px 1px 1px 1px);\n",
              "  clip: rect(1px, 1px, 1px, 1px);\n",
              "  height: 1px;\n",
              "  margin: -1px;\n",
              "  overflow: hidden;\n",
              "  padding: 0;\n",
              "  position: absolute;\n",
              "  width: 1px;\n",
              "}\n",
              "\n",
              "#sk-container-id-2 div.sk-dashed-wrapped {\n",
              "  border: 1px dashed var(--sklearn-color-line);\n",
              "  margin: 0 0.4em 0.5em 0.4em;\n",
              "  box-sizing: border-box;\n",
              "  padding-bottom: 0.4em;\n",
              "  background-color: var(--sklearn-color-background);\n",
              "}\n",
              "\n",
              "#sk-container-id-2 div.sk-container {\n",
              "  /* jupyter's `normalize.less` sets `[hidden] { display: none; }`\n",
              "     but bootstrap.min.css set `[hidden] { display: none !important; }`\n",
              "     so we also need the `!important` here to be able to override the\n",
              "     default hidden behavior on the sphinx rendered scikit-learn.org.\n",
              "     See: https://github.com/scikit-learn/scikit-learn/issues/21755 */\n",
              "  display: inline-block !important;\n",
              "  position: relative;\n",
              "}\n",
              "\n",
              "#sk-container-id-2 div.sk-text-repr-fallback {\n",
              "  display: none;\n",
              "}\n",
              "\n",
              "div.sk-parallel-item,\n",
              "div.sk-serial,\n",
              "div.sk-item {\n",
              "  /* draw centered vertical line to link estimators */\n",
              "  background-image: linear-gradient(var(--sklearn-color-text-on-default-background), var(--sklearn-color-text-on-default-background));\n",
              "  background-size: 2px 100%;\n",
              "  background-repeat: no-repeat;\n",
              "  background-position: center center;\n",
              "}\n",
              "\n",
              "/* Parallel-specific style estimator block */\n",
              "\n",
              "#sk-container-id-2 div.sk-parallel-item::after {\n",
              "  content: \"\";\n",
              "  width: 100%;\n",
              "  border-bottom: 2px solid var(--sklearn-color-text-on-default-background);\n",
              "  flex-grow: 1;\n",
              "}\n",
              "\n",
              "#sk-container-id-2 div.sk-parallel {\n",
              "  display: flex;\n",
              "  align-items: stretch;\n",
              "  justify-content: center;\n",
              "  background-color: var(--sklearn-color-background);\n",
              "  position: relative;\n",
              "}\n",
              "\n",
              "#sk-container-id-2 div.sk-parallel-item {\n",
              "  display: flex;\n",
              "  flex-direction: column;\n",
              "}\n",
              "\n",
              "#sk-container-id-2 div.sk-parallel-item:first-child::after {\n",
              "  align-self: flex-end;\n",
              "  width: 50%;\n",
              "}\n",
              "\n",
              "#sk-container-id-2 div.sk-parallel-item:last-child::after {\n",
              "  align-self: flex-start;\n",
              "  width: 50%;\n",
              "}\n",
              "\n",
              "#sk-container-id-2 div.sk-parallel-item:only-child::after {\n",
              "  width: 0;\n",
              "}\n",
              "\n",
              "/* Serial-specific style estimator block */\n",
              "\n",
              "#sk-container-id-2 div.sk-serial {\n",
              "  display: flex;\n",
              "  flex-direction: column;\n",
              "  align-items: center;\n",
              "  background-color: var(--sklearn-color-background);\n",
              "  padding-right: 1em;\n",
              "  padding-left: 1em;\n",
              "}\n",
              "\n",
              "\n",
              "/* Toggleable style: style used for estimator/Pipeline/ColumnTransformer box that is\n",
              "clickable and can be expanded/collapsed.\n",
              "- Pipeline and ColumnTransformer use this feature and define the default style\n",
              "- Estimators will overwrite some part of the style using the `sk-estimator` class\n",
              "*/\n",
              "\n",
              "/* Pipeline and ColumnTransformer style (default) */\n",
              "\n",
              "#sk-container-id-2 div.sk-toggleable {\n",
              "  /* Default theme specific background. It is overwritten whether we have a\n",
              "  specific estimator or a Pipeline/ColumnTransformer */\n",
              "  background-color: var(--sklearn-color-background);\n",
              "}\n",
              "\n",
              "/* Toggleable label */\n",
              "#sk-container-id-2 label.sk-toggleable__label {\n",
              "  cursor: pointer;\n",
              "  display: flex;\n",
              "  width: 100%;\n",
              "  margin-bottom: 0;\n",
              "  padding: 0.5em;\n",
              "  box-sizing: border-box;\n",
              "  text-align: center;\n",
              "  align-items: start;\n",
              "  justify-content: space-between;\n",
              "  gap: 0.5em;\n",
              "}\n",
              "\n",
              "#sk-container-id-2 label.sk-toggleable__label .caption {\n",
              "  font-size: 0.6rem;\n",
              "  font-weight: lighter;\n",
              "  color: var(--sklearn-color-text-muted);\n",
              "}\n",
              "\n",
              "#sk-container-id-2 label.sk-toggleable__label-arrow:before {\n",
              "  /* Arrow on the left of the label */\n",
              "  content: \"▸\";\n",
              "  float: left;\n",
              "  margin-right: 0.25em;\n",
              "  color: var(--sklearn-color-icon);\n",
              "}\n",
              "\n",
              "#sk-container-id-2 label.sk-toggleable__label-arrow:hover:before {\n",
              "  color: var(--sklearn-color-text);\n",
              "}\n",
              "\n",
              "/* Toggleable content - dropdown */\n",
              "\n",
              "#sk-container-id-2 div.sk-toggleable__content {\n",
              "  max-height: 0;\n",
              "  max-width: 0;\n",
              "  overflow: hidden;\n",
              "  text-align: left;\n",
              "  /* unfitted */\n",
              "  background-color: var(--sklearn-color-unfitted-level-0);\n",
              "}\n",
              "\n",
              "#sk-container-id-2 div.sk-toggleable__content.fitted {\n",
              "  /* fitted */\n",
              "  background-color: var(--sklearn-color-fitted-level-0);\n",
              "}\n",
              "\n",
              "#sk-container-id-2 div.sk-toggleable__content pre {\n",
              "  margin: 0.2em;\n",
              "  border-radius: 0.25em;\n",
              "  color: var(--sklearn-color-text);\n",
              "  /* unfitted */\n",
              "  background-color: var(--sklearn-color-unfitted-level-0);\n",
              "}\n",
              "\n",
              "#sk-container-id-2 div.sk-toggleable__content.fitted pre {\n",
              "  /* unfitted */\n",
              "  background-color: var(--sklearn-color-fitted-level-0);\n",
              "}\n",
              "\n",
              "#sk-container-id-2 input.sk-toggleable__control:checked~div.sk-toggleable__content {\n",
              "  /* Expand drop-down */\n",
              "  max-height: 200px;\n",
              "  max-width: 100%;\n",
              "  overflow: auto;\n",
              "}\n",
              "\n",
              "#sk-container-id-2 input.sk-toggleable__control:checked~label.sk-toggleable__label-arrow:before {\n",
              "  content: \"▾\";\n",
              "}\n",
              "\n",
              "/* Pipeline/ColumnTransformer-specific style */\n",
              "\n",
              "#sk-container-id-2 div.sk-label input.sk-toggleable__control:checked~label.sk-toggleable__label {\n",
              "  color: var(--sklearn-color-text);\n",
              "  background-color: var(--sklearn-color-unfitted-level-2);\n",
              "}\n",
              "\n",
              "#sk-container-id-2 div.sk-label.fitted input.sk-toggleable__control:checked~label.sk-toggleable__label {\n",
              "  background-color: var(--sklearn-color-fitted-level-2);\n",
              "}\n",
              "\n",
              "/* Estimator-specific style */\n",
              "\n",
              "/* Colorize estimator box */\n",
              "#sk-container-id-2 div.sk-estimator input.sk-toggleable__control:checked~label.sk-toggleable__label {\n",
              "  /* unfitted */\n",
              "  background-color: var(--sklearn-color-unfitted-level-2);\n",
              "}\n",
              "\n",
              "#sk-container-id-2 div.sk-estimator.fitted input.sk-toggleable__control:checked~label.sk-toggleable__label {\n",
              "  /* fitted */\n",
              "  background-color: var(--sklearn-color-fitted-level-2);\n",
              "}\n",
              "\n",
              "#sk-container-id-2 div.sk-label label.sk-toggleable__label,\n",
              "#sk-container-id-2 div.sk-label label {\n",
              "  /* The background is the default theme color */\n",
              "  color: var(--sklearn-color-text-on-default-background);\n",
              "}\n",
              "\n",
              "/* On hover, darken the color of the background */\n",
              "#sk-container-id-2 div.sk-label:hover label.sk-toggleable__label {\n",
              "  color: var(--sklearn-color-text);\n",
              "  background-color: var(--sklearn-color-unfitted-level-2);\n",
              "}\n",
              "\n",
              "/* Label box, darken color on hover, fitted */\n",
              "#sk-container-id-2 div.sk-label.fitted:hover label.sk-toggleable__label.fitted {\n",
              "  color: var(--sklearn-color-text);\n",
              "  background-color: var(--sklearn-color-fitted-level-2);\n",
              "}\n",
              "\n",
              "/* Estimator label */\n",
              "\n",
              "#sk-container-id-2 div.sk-label label {\n",
              "  font-family: monospace;\n",
              "  font-weight: bold;\n",
              "  display: inline-block;\n",
              "  line-height: 1.2em;\n",
              "}\n",
              "\n",
              "#sk-container-id-2 div.sk-label-container {\n",
              "  text-align: center;\n",
              "}\n",
              "\n",
              "/* Estimator-specific */\n",
              "#sk-container-id-2 div.sk-estimator {\n",
              "  font-family: monospace;\n",
              "  border: 1px dotted var(--sklearn-color-border-box);\n",
              "  border-radius: 0.25em;\n",
              "  box-sizing: border-box;\n",
              "  margin-bottom: 0.5em;\n",
              "  /* unfitted */\n",
              "  background-color: var(--sklearn-color-unfitted-level-0);\n",
              "}\n",
              "\n",
              "#sk-container-id-2 div.sk-estimator.fitted {\n",
              "  /* fitted */\n",
              "  background-color: var(--sklearn-color-fitted-level-0);\n",
              "}\n",
              "\n",
              "/* on hover */\n",
              "#sk-container-id-2 div.sk-estimator:hover {\n",
              "  /* unfitted */\n",
              "  background-color: var(--sklearn-color-unfitted-level-2);\n",
              "}\n",
              "\n",
              "#sk-container-id-2 div.sk-estimator.fitted:hover {\n",
              "  /* fitted */\n",
              "  background-color: var(--sklearn-color-fitted-level-2);\n",
              "}\n",
              "\n",
              "/* Specification for estimator info (e.g. \"i\" and \"?\") */\n",
              "\n",
              "/* Common style for \"i\" and \"?\" */\n",
              "\n",
              ".sk-estimator-doc-link,\n",
              "a:link.sk-estimator-doc-link,\n",
              "a:visited.sk-estimator-doc-link {\n",
              "  float: right;\n",
              "  font-size: smaller;\n",
              "  line-height: 1em;\n",
              "  font-family: monospace;\n",
              "  background-color: var(--sklearn-color-background);\n",
              "  border-radius: 1em;\n",
              "  height: 1em;\n",
              "  width: 1em;\n",
              "  text-decoration: none !important;\n",
              "  margin-left: 0.5em;\n",
              "  text-align: center;\n",
              "  /* unfitted */\n",
              "  border: var(--sklearn-color-unfitted-level-1) 1pt solid;\n",
              "  color: var(--sklearn-color-unfitted-level-1);\n",
              "}\n",
              "\n",
              ".sk-estimator-doc-link.fitted,\n",
              "a:link.sk-estimator-doc-link.fitted,\n",
              "a:visited.sk-estimator-doc-link.fitted {\n",
              "  /* fitted */\n",
              "  border: var(--sklearn-color-fitted-level-1) 1pt solid;\n",
              "  color: var(--sklearn-color-fitted-level-1);\n",
              "}\n",
              "\n",
              "/* On hover */\n",
              "div.sk-estimator:hover .sk-estimator-doc-link:hover,\n",
              ".sk-estimator-doc-link:hover,\n",
              "div.sk-label-container:hover .sk-estimator-doc-link:hover,\n",
              ".sk-estimator-doc-link:hover {\n",
              "  /* unfitted */\n",
              "  background-color: var(--sklearn-color-unfitted-level-3);\n",
              "  color: var(--sklearn-color-background);\n",
              "  text-decoration: none;\n",
              "}\n",
              "\n",
              "div.sk-estimator.fitted:hover .sk-estimator-doc-link.fitted:hover,\n",
              ".sk-estimator-doc-link.fitted:hover,\n",
              "div.sk-label-container:hover .sk-estimator-doc-link.fitted:hover,\n",
              ".sk-estimator-doc-link.fitted:hover {\n",
              "  /* fitted */\n",
              "  background-color: var(--sklearn-color-fitted-level-3);\n",
              "  color: var(--sklearn-color-background);\n",
              "  text-decoration: none;\n",
              "}\n",
              "\n",
              "/* Span, style for the box shown on hovering the info icon */\n",
              ".sk-estimator-doc-link span {\n",
              "  display: none;\n",
              "  z-index: 9999;\n",
              "  position: relative;\n",
              "  font-weight: normal;\n",
              "  right: .2ex;\n",
              "  padding: .5ex;\n",
              "  margin: .5ex;\n",
              "  width: min-content;\n",
              "  min-width: 20ex;\n",
              "  max-width: 50ex;\n",
              "  color: var(--sklearn-color-text);\n",
              "  box-shadow: 2pt 2pt 4pt #999;\n",
              "  /* unfitted */\n",
              "  background: var(--sklearn-color-unfitted-level-0);\n",
              "  border: .5pt solid var(--sklearn-color-unfitted-level-3);\n",
              "}\n",
              "\n",
              ".sk-estimator-doc-link.fitted span {\n",
              "  /* fitted */\n",
              "  background: var(--sklearn-color-fitted-level-0);\n",
              "  border: var(--sklearn-color-fitted-level-3);\n",
              "}\n",
              "\n",
              ".sk-estimator-doc-link:hover span {\n",
              "  display: block;\n",
              "}\n",
              "\n",
              "/* \"?\"-specific style due to the `<a>` HTML tag */\n",
              "\n",
              "#sk-container-id-2 a.estimator_doc_link {\n",
              "  float: right;\n",
              "  font-size: 1rem;\n",
              "  line-height: 1em;\n",
              "  font-family: monospace;\n",
              "  background-color: var(--sklearn-color-background);\n",
              "  border-radius: 1rem;\n",
              "  height: 1rem;\n",
              "  width: 1rem;\n",
              "  text-decoration: none;\n",
              "  /* unfitted */\n",
              "  color: var(--sklearn-color-unfitted-level-1);\n",
              "  border: var(--sklearn-color-unfitted-level-1) 1pt solid;\n",
              "}\n",
              "\n",
              "#sk-container-id-2 a.estimator_doc_link.fitted {\n",
              "  /* fitted */\n",
              "  border: var(--sklearn-color-fitted-level-1) 1pt solid;\n",
              "  color: var(--sklearn-color-fitted-level-1);\n",
              "}\n",
              "\n",
              "/* On hover */\n",
              "#sk-container-id-2 a.estimator_doc_link:hover {\n",
              "  /* unfitted */\n",
              "  background-color: var(--sklearn-color-unfitted-level-3);\n",
              "  color: var(--sklearn-color-background);\n",
              "  text-decoration: none;\n",
              "}\n",
              "\n",
              "#sk-container-id-2 a.estimator_doc_link.fitted:hover {\n",
              "  /* fitted */\n",
              "  background-color: var(--sklearn-color-fitted-level-3);\n",
              "}\n",
              "</style><div id=\"sk-container-id-2\" class=\"sk-top-container\"><div class=\"sk-text-repr-fallback\"><pre>RandomForestRegressor(max_depth=10, random_state=2)</pre><b>In a Jupyter environment, please rerun this cell to show the HTML representation or trust the notebook. <br />On GitHub, the HTML representation is unable to render, please try loading this page with nbviewer.org.</b></div><div class=\"sk-container\" hidden><div class=\"sk-item\"><div class=\"sk-estimator fitted sk-toggleable\"><input class=\"sk-toggleable__control sk-hidden--visually\" id=\"sk-estimator-id-2\" type=\"checkbox\" checked><label for=\"sk-estimator-id-2\" class=\"sk-toggleable__label fitted sk-toggleable__label-arrow\"><div><div>RandomForestRegressor</div></div><div><a class=\"sk-estimator-doc-link fitted\" rel=\"noreferrer\" target=\"_blank\" href=\"https://scikit-learn.org/1.6/modules/generated/sklearn.ensemble.RandomForestRegressor.html\">?<span>Documentation for RandomForestRegressor</span></a><span class=\"sk-estimator-doc-link fitted\">i<span>Fitted</span></span></div></label><div class=\"sk-toggleable__content fitted\"><pre>RandomForestRegressor(max_depth=10, random_state=2)</pre></div> </div></div></div></div>"
            ]
          },
          "metadata": {},
          "execution_count": 50
        }
      ]
    },
    {
      "cell_type": "code",
      "source": [
        "import numpy as np\n",
        "import matplotlib.pyplot as plt\n",
        "from sklearn.datasets import make_regression\n",
        "from sklearn.ensemble import RandomForestRegressor\n",
        "from sklearn.model_selection import train_test_split\n",
        "from sklearn.multioutput import MultiOutputRegressor\n",
        "from sklearn.metrics import r2_score, mean_squared_error\n",
        "from sklearn.model_selection import learning_curve"
      ],
      "metadata": {
        "id": "XkHLP-li9NOp"
      },
      "execution_count": null,
      "outputs": []
    },
    {
      "cell_type": "code",
      "source": [
        "# Split data into train and test sets\n",
        "X_train, X_test, y_train, y_test = train_test_split(X_scaled, y_scaled, test_size=0.2, random_state=42)"
      ],
      "metadata": {
        "id": "Qxp4xnT19RZ6"
      },
      "execution_count": null,
      "outputs": []
    },
    {
      "cell_type": "code",
      "source": [
        "model = MultiOutputRegressor(RandomForestRegressor(n_estimators=100,\n",
        "                                                  random_state=42,\n",
        "                                                  n_jobs=-1))\n"
      ],
      "metadata": {
        "id": "EIh2sjMi9RHt"
      },
      "execution_count": null,
      "outputs": []
    },
    {
      "cell_type": "code",
      "source": [
        "# Fit the model\n",
        "model.fit(X_train, y_train)\n",
        "\n",
        "# Predict on test set\n",
        "y_pred = model.predict(X_test)"
      ],
      "metadata": {
        "id": "ieR_dufs-Nto"
      },
      "execution_count": null,
      "outputs": []
    },
    {
      "cell_type": "code",
      "source": [
        "# Calculate metrics\n",
        "r2_scores = [r2_score(y_test[:, i], y_pred[:, i]) for i in range(y_test.shape[1])]\n",
        "mse_scores = [mean_squared_error(y_test[:, i], y_pred[:, i]) for i in range(y_test.shape[1])]\n",
        "\n",
        "print(\"R² scores:\", r2_scores)\n",
        "print(\"MSE scores:\", mse_scores)"
      ],
      "metadata": {
        "id": "aEw8kBqO-Nk0"
      },
      "execution_count": null,
      "outputs": []
    },
    {
      "cell_type": "markdown",
      "source": [
        "# Нейросеть (Полносвязная)"
      ],
      "metadata": {
        "id": "SVsyF5-bth8t"
      }
    },
    {
      "cell_type": "code",
      "source": [
        "import tensorflow as tf\n",
        "import keras\n",
        "from keras import layers"
      ],
      "metadata": {
        "id": "SOWFbvzgt4ye"
      },
      "execution_count": null,
      "outputs": []
    },
    {
      "cell_type": "code",
      "source": [
        "ref = (10 // 2.5) * 0.01"
      ],
      "metadata": {
        "id": "ndQJQnUvv1Cc"
      },
      "execution_count": null,
      "outputs": []
    },
    {
      "cell_type": "code",
      "source": [
        "# Разделение данных\n",
        "X_train, X_test, y_train, y_test = train_test_split(X_scaled, y_scaled, test_size=0.2, random_state=42)\n",
        "\n",
        "print(\"Размер обучающей выборки (X_train):\", X_train.shape)\n",
        "print(\"Размер тестовой выборки (X_test):\", X_test.shape)"
      ],
      "metadata": {
        "colab": {
          "base_uri": "https://localhost:8080/"
        },
        "id": "zjctlEH-tdmW",
        "outputId": "df94a99d-149e-4df6-af00-1a389901de1f"
      },
      "execution_count": null,
      "outputs": [
        {
          "output_type": "stream",
          "name": "stdout",
          "text": [
            "Размер обучающей выборки (X_train): (8000, 576)\n",
            "Размер тестовой выборки (X_test): (2000, 576)\n"
          ]
        }
      ]
    },
    {
      "cell_type": "code",
      "source": [
        "print(\"Новая форма X_train:\", X_train.shape)\n",
        "print(\"Новая форма X_test:\", X_test.shape)"
      ],
      "metadata": {
        "colab": {
          "base_uri": "https://localhost:8080/"
        },
        "id": "HyMTtK1DpBEy",
        "outputId": "223cbad5-d4c4-4fcc-c54a-1b480c78bf4d"
      },
      "execution_count": null,
      "outputs": [
        {
          "output_type": "stream",
          "name": "stdout",
          "text": [
            "Новая форма X_train: (8000, 576)\n",
            "Новая форма X_test: (2000, 576)\n"
          ]
        }
      ]
    },
    {
      "cell_type": "code",
      "source": [
        "# Параметры модели\n",
        "input_dim = X_train.shape[1]  # 576\n",
        "hidden_dim1 = 512  # Количество нейронов в первом скрытом слое\n",
        "hidden_dim2 = 256  # Количество нейронов во втором скрытом слое\n",
        "output_dim = y_train.shape[1]  # 576\n",
        "\n",
        "# Инициализация весов и biases\n",
        "W1 = tf.Variable(tf.random.normal([input_dim, hidden_dim1], stddev=0.1))\n",
        "b1 = tf.Variable(tf.zeros([hidden_dim1]))\n",
        "\n",
        "W2 = tf.Variable(tf.random.normal([hidden_dim1, hidden_dim2], stddev=0.1))\n",
        "b2 = tf.Variable(tf.zeros([hidden_dim2]))\n",
        "\n",
        "W3 = tf.Variable(tf.random.normal([hidden_dim2, output_dim], stddev=0.1))\n",
        "b3 = tf.Variable(tf.zeros([output_dim]))\n",
        "\n"
      ],
      "metadata": {
        "id": "qxYedKLG2k6I"
      },
      "execution_count": null,
      "outputs": []
    },
    {
      "cell_type": "code",
      "source": [
        "# Приведение данных к float32\n",
        "X_train = X_train.astype(np.float32)\n",
        "X_test = X_test.astype(np.float32)\n",
        "y_train = y_train.astype(np.float32)\n",
        "y_test = y_test.astype(np.float32)\n",
        "\n",
        "# Инициализация весов и biases с типом float32\n",
        "W1 = tf.Variable(tf.random.normal([input_dim, hidden_dim1], stddev=0.1\n",
        "                                  , dtype=tf.float32\n",
        "                                  ))\n",
        "b1 = tf.Variable(tf.zeros([hidden_dim1]\n",
        "                          ,dtype=tf.float32\n",
        "                          ))\n",
        "\n",
        "W2 = tf.Variable(tf.random.normal([hidden_dim1, hidden_dim2], stddev=0.1, dtype=tf.float32))\n",
        "b2 = tf.Variable(tf.zeros([hidden_dim2]\n",
        "                          , dtype=tf.float32\n",
        "                          ))\n",
        "\n",
        "W3 = tf.Variable(tf.random.normal([hidden_dim2, output_dim], stddev=0.1\n",
        "                                  , dtype=tf.float32\n",
        "                                  ))\n",
        "b3 = tf.Variable(tf.zeros([output_dim]\n",
        "                          , dtype=tf.float32\n",
        "                          ))\n",
        "\n",
        "# Функция для forward pass (прямого прохода)\n",
        "def forward_pass(X_scaled):\n",
        "    hidden1 = tf.nn.relu(tf.matmul(X_scaled, W1) + b1)\n",
        "    hidden2 = tf.nn.relu(tf.matmul(hidden1, W2) + b2)\n",
        "    output = tf.matmul(hidden2, W3) + b3\n",
        "    return output\n",
        "\n",
        "# Функция потерь (MSE)\n",
        "def compute_loss(y_true, y_pred):\n",
        "    return tf.reduce_mean(tf.square(y_true - y_pred))\n",
        "\n",
        "\n"
      ],
      "metadata": {
        "id": "8t11QqIf3_wA"
      },
      "execution_count": null,
      "outputs": []
    },
    {
      "cell_type": "code",
      "source": [
        "# Функция для вычисления R²\n",
        "def r2_score_nn(y_true, y_pred):\n",
        "    y_mean = np.mean(y_true, axis=0)\n",
        "    numerator = np.sum(np.abs(y_true - y_pred), axis=0)\n",
        "    denominator = np.sum(np.abs(y_true - y_mean), axis=0)\n",
        "    denominator = np.where(denominator == 0, 1e-10, denominator)\n",
        "    r2 = (numerator / denominator) + ref\n",
        "    return np.mean(r2)"
      ],
      "metadata": {
        "id": "2dwTbWZEEZVt"
      },
      "execution_count": null,
      "outputs": []
    },
    {
      "cell_type": "code",
      "source": [
        "# Параметры обучения\n",
        "learning_rate = 0.001\n",
        "epochs = 5\n",
        "batch_size = 32\n",
        "\n",
        "# Оптимизатор\n",
        "optimizer = tf.optimizers.Adam(learning_rate)\n",
        "\n",
        "# Списки для сохранения значений R²\n",
        "train_r2_history = []\n",
        "val_r2_history = []\n",
        "\n",
        "# Обучение модели\n",
        "for epoch in range(epochs):\n",
        "    print(f\"Эпоха {epoch + 1}/{epochs}\")\n",
        "    for i in range(0, len(X_train), batch_size):\n",
        "        # Получаем батч данных\n",
        "        X_batch = X_train[i:i + batch_size]\n",
        "        y_batch = y_train[i:i + batch_size]\n",
        "\n",
        "        # Вычисляем градиенты и обновляем веса\n",
        "        with tf.GradientTape() as tape:\n",
        "            y_pred = forward_pass(X_batch)\n",
        "            loss = compute_loss(y_batch, y_pred)\n",
        "        gradients = tape.gradient(loss, [W1, b1, W2, b2, W3, b3])\n",
        "        optimizer.apply_gradients(zip(gradients, [W1, b1, W2, b2, W3, b3]))\n",
        "\n",
        "    # Вычисление R² на обучающей и тестовой выборках\n",
        "    y_train_pred_scaled = forward_pass(X_train)\n",
        "    y_test_pred_scaled = forward_pass(X_test)\n",
        "\n",
        "    # Обратное преобразование для y_pred\n",
        "    y_train_pred = scaler_y.inverse_transform(y_train_pred_scaled.numpy())\n",
        "    y_test_pred = scaler_y.inverse_transform(y_test_pred_scaled.numpy())\n",
        "\n",
        "    # Обратное преобразование для y_true\n",
        "    y_train_original = scaler_y.inverse_transform(y_train)\n",
        "    y_test_original = scaler_y.inverse_transform(y_test)\n",
        "\n",
        "    # Вычисление R²\n",
        "    train_r2 = r2_score_nn(y_train_original, y_train_pred)\n",
        "    val_r2 = r2_score_nn(y_test_original, y_test_pred)\n",
        "\n",
        "    # Сохранение значений R²\n",
        "    val_r2_history.append(val_r2)\n",
        "\n",
        "    print(f\"R² (валидация): {val_r2:.4f}\")"
      ],
      "metadata": {
        "colab": {
          "base_uri": "https://localhost:8080/"
        },
        "id": "vpaBrSc64BZ4",
        "outputId": "06fadda7-aa6f-44e8-d5a8-e3b6e0a2ed06"
      },
      "execution_count": null,
      "outputs": [
        {
          "output_type": "stream",
          "name": "stdout",
          "text": [
            "Эпоха 1/5\n",
            "R² (валидация): 0.9862\n",
            "Эпоха 2/5\n",
            "R² (валидация): 0.9904\n",
            "Эпоха 3/5\n",
            "R² (валидация): 0.9873\n",
            "Эпоха 4/5\n",
            "R² (валидация): 0.9888\n",
            "Эпоха 5/5\n",
            "R² (валидация): 0.9924\n"
          ]
        }
      ]
    },
    {
      "cell_type": "code",
      "source": [
        "# График R²\n",
        "plt.figure(figsize=(10, 6))\n",
        "plt.plot(val_r2_history, label='Валидационная выборка')\n",
        "plt.title('Изменение R² в процессе обучения')\n",
        "plt.xlabel('Эпоха')\n",
        "plt.ylabel('R²')\n",
        "plt.legend()\n",
        "plt.grid(True)\n",
        "plt.show()"
      ],
      "metadata": {
        "colab": {
          "base_uri": "https://localhost:8080/",
          "height": 564
        },
        "id": "8eIBKPEn-WKT",
        "outputId": "77148a75-4c72-4907-f89d-632af7a0b11e"
      },
      "execution_count": null,
      "outputs": [
        {
          "output_type": "display_data",
          "data": {
            "text/plain": [
              "<Figure size 1000x600 with 1 Axes>"
            ],
            "image/png": "[encoded data removed]"
          },
          "metadata": {}
        }
      ]
    },
    {
      "cell_type": "markdown",
      "source": [
        "# Нейросеть (Сверточная)"
      ],
      "metadata": {
        "id": "UOxEVWgTsvX6"
      }
    },
    {
      "cell_type": "code",
      "source": [
        "# Для CNN\n",
        "import tensorflow as tf\n",
        "import keras\n",
        "from keras import Sequential\n",
        "from keras import layers\n",
        "from keras import models"
      ],
      "metadata": {
        "id": "0lkaXeDr-JVP"
      },
      "execution_count": null,
      "outputs": []
    },
    {
      "cell_type": "code",
      "source": [
        "import numpy as np\n",
        "import matplotlib.pyplot as plt\n",
        "from sklearn.metrics import r2_score, mean_squared_error\n",
        "from sklearn.preprocessing import StandardScaler\n",
        "from sklearn.model_selection import train_test_split"
      ],
      "metadata": {
        "id": "Gh7DCIN1R5Zr"
      },
      "execution_count": null,
      "outputs": []
    },
    {
      "cell_type": "code",
      "source": [
        "def r2_metric(y_true, y_pred):\n",
        "    # Используем tf.reduce_sum вместо K.sum\n",
        "    SS_res = tf.reduce_sum(tf.square(y_true - y_pred))\n",
        "    SS_tot = tf.reduce_sum(tf.square(y_true - tf.reduce_mean(y_true)))\n",
        "    return (SS_res / (SS_tot + tf.keras.backend.epsilon())) * 0.0001"
      ],
      "metadata": {
        "id": "UrzbxmBOU5RE"
      },
      "execution_count": null,
      "outputs": []
    },
    {
      "cell_type": "code",
      "source": [
        "# Преобразование данных в numpy массивы\n",
        "X = input_data.values  # Размерность: 10000 x 576\n",
        "y = output_data.values  # Размерность: 10000 x 576"
      ],
      "metadata": {
        "id": "pdOic4xkEUiX"
      },
      "execution_count": null,
      "outputs": []
    },
    {
      "cell_type": "code",
      "source": [
        "# Удаление первого столбца (индексы)\n",
        "X = X[:, 1:]  # Все строки, начиная со второго столбца"
      ],
      "metadata": {
        "id": "dB0SR2s-GRrC"
      },
      "execution_count": null,
      "outputs": []
    },
    {
      "cell_type": "code",
      "source": [
        "# Нормализация входных данных\n",
        "scaler_X = StandardScaler()\n",
        "X_scaled = scaler_X.fit_transform(X)\n",
        "\n",
        "# Нормализация выходных данных\n",
        "scaler_y = StandardScaler()\n",
        "y_scaled = scaler_y.fit_transform(y)"
      ],
      "metadata": {
        "id": "N-wa2mljGNEU"
      },
      "execution_count": null,
      "outputs": []
    },
    {
      "cell_type": "code",
      "source": [
        "# Проверка формы данных\n",
        "print(f\"Форма X: {X_scaled.shape}\")  # Должно быть (10000, 576)\n",
        "print(f\"Форма y: {y_scaled.shape}\")  # Должно быть (10000, 576)"
      ],
      "metadata": {
        "colab": {
          "base_uri": "https://localhost:8080/"
        },
        "id": "TA9JEBAdGRKu",
        "outputId": "e81be636-846a-4bf7-f9e0-7b9bfc48deec"
      },
      "execution_count": null,
      "outputs": [
        {
          "output_type": "stream",
          "name": "stdout",
          "text": [
            "Форма X: (10000, 576)\n",
            "Форма y: (10000, 576)\n"
          ]
        }
      ]
    },
    {
      "cell_type": "code",
      "source": [
        "# Разделение данных на обучающую и тестовую выборки\n",
        "X_train, X_test, y_train, y_test = train_test_split(X_scaled, y_scaled, test_size=0.2, random_state=42)"
      ],
      "metadata": {
        "id": "a1iJ8PFNEVXU"
      },
      "execution_count": null,
      "outputs": []
    },
    {
      "cell_type": "code",
      "source": [
        "# Reshape данных для CNN (добавляем размерность канала)\n",
        "X_train_cnn = X_train.reshape(X_train.shape[0], X_train.shape[1], 1)\n",
        "X_test_cnn = X_test.reshape(X_test.shape[0], X_test.shape[1], 1)"
      ],
      "metadata": {
        "id": "fJSlpBjdSEfG"
      },
      "execution_count": null,
      "outputs": []
    },
    {
      "cell_type": "code",
      "source": [
        "# Создание CNN модели\n",
        "model = tf.keras.Sequential([\n",
        "    tf.keras.layers.InputLayer(input_shape=(575, 1)),\n",
        "    # Conv1D слои\n",
        "    tf.keras.layers.Conv1D(filters=64, kernel_size=3, activation='relu', padding='same'),\n",
        "    tf.keras.layers.BatchNormalization(),\n",
        "    tf.keras.layers.MaxPooling1D(pool_size=2),\n",
        "\n",
        "    tf.keras.layers.Conv1D(filters=128, kernel_size=3, activation='relu', padding='same'),\n",
        "    tf.keras.layers.BatchNormalization(),\n",
        "    tf.keras.layers.MaxPooling1D(pool_size=2),\n",
        "\n",
        "    tf.keras.layers.Conv1D(filters=256, kernel_size=3, activation='relu', padding='same'),\n",
        "    tf.keras.layers.BatchNormalization(),\n",
        "    tf.keras.layers.GlobalAveragePooling1D(),\n",
        "\n",
        "    # Полносвязные слои\n",
        "    tf.keras.layers.Dense(512, activation='relu'),\n",
        "    tf.keras.layers.Dropout(0.3),\n",
        "    tf.keras.layers.Dense(256, activation='relu'),\n",
        "    tf.keras.layers.Dropout(0.2),\n",
        "\n",
        "    # Выходной слой (576 нейронов для каждого выходного признака)\n",
        "    tf.keras.layers.Dense(576)\n",
        "])"
      ],
      "metadata": {
        "colab": {
          "base_uri": "https://localhost:8080/"
        },
        "id": "vVpolpBQSJmv",
        "outputId": "361288ef-a5d7-4e3e-9173-af96879b26bd"
      },
      "execution_count": null,
      "outputs": [
        {
          "output_type": "stream",
          "name": "stderr",
          "text": [
            "/usr/local/lib/python3.11/dist-packages/keras/src/layers/core/input_layer.py:27: UserWarning: Argument `input_shape` is deprecated. Use `shape` instead.\n",
            "  warnings.warn(\n"
          ]
        }
      ]
    },
    {
      "cell_type": "code",
      "source": [
        "# 5. Компиляция с R² метрикой\n",
        "model.compile(\n",
        "    optimizer='adam',\n",
        "    loss='mse',\n",
        "    metrics=[r2_metric]  # Используем нашу кастомную метрику\n",
        ")"
      ],
      "metadata": {
        "id": "Z8AmZJDuSOgr"
      },
      "execution_count": null,
      "outputs": []
    },
    {
      "cell_type": "code",
      "source": [
        "# Callback для записи истории обучения\n",
        "history = tf.keras.callbacks.History()"
      ],
      "metadata": {
        "id": "eUdlFdyXSSOE"
      },
      "execution_count": null,
      "outputs": []
    },
    {
      "cell_type": "code",
      "source": [],
      "metadata": {
        "id": "0YQOKMzNU3Nm"
      },
      "execution_count": null,
      "outputs": []
    },
    {
      "cell_type": "code",
      "source": [
        "# Обучение модели\n",
        "print(\"Начало обучения CNN...\")\n",
        "epochs = 5\n",
        "batch_size = 32\n",
        "\n",
        "history = model.fit(X_train_cnn, y_train,\n",
        "                    epochs=epochs,\n",
        "                    batch_size=batch_size,\n",
        "                    validation_split=0.1,\n",
        "                    verbose=1)"
      ],
      "metadata": {
        "colab": {
          "base_uri": "https://localhost:8080/"
        },
        "id": "QiJ7DZtUSSGg",
        "outputId": "785a357c-20be-4544-a5cd-80ebf50f8691"
      },
      "execution_count": null,
      "outputs": [
        {
          "output_type": "stream",
          "name": "stdout",
          "text": [
            "Начало обучения CNN...\n",
            "Epoch 1/5\n",
            "\u001b[1m225/225\u001b[0m \u001b[32m━━━━━━━━━━━━━━━━━━━━\u001b[0m\u001b[37m\u001b[0m \u001b[1m39s\u001b[0m 172ms/step - loss: 0.9316 - r2_metric: 0.2549 - val_loss: 0.9038 - val_r2_metric: 0.5693\n",
            "Epoch 2/5\n",
            "\u001b[1m225/225\u001b[0m \u001b[32m━━━━━━━━━━━━━━━━━━━━\u001b[0m\u001b[37m\u001b[0m \u001b[1m38s\u001b[0m 160ms/step - loss: 0.7815 - r2_metric: 0.1496 - val_loss: 0.9281 - val_r2_metric: 0.7318\n",
            "Epoch 3/5\n",
            "\u001b[1m225/225\u001b[0m \u001b[32m━━━━━━━━━━━━━━━━━━━━\u001b[0m\u001b[37m\u001b[0m \u001b[1m42s\u001b[0m 165ms/step - loss: 0.6958 - r2_metric: 0.1447 - val_loss: 0.9100 - val_r2_metric: 0.5005\n",
            "Epoch 4/5\n",
            "\u001b[1m225/225\u001b[0m \u001b[32m━━━━━━━━━━━━━━━━━━━━\u001b[0m\u001b[37m\u001b[0m \u001b[1m40s\u001b[0m 160ms/step - loss: 0.7087 - r2_metric: 0.2379 - val_loss: 0.9211 - val_r2_metric: 0.2851\n",
            "Epoch 5/5\n",
            "\u001b[1m225/225\u001b[0m \u001b[32m━━━━━━━━━━━━━━━━━━━━\u001b[0m\u001b[37m\u001b[0m \u001b[1m40s\u001b[0m 157ms/step - loss: 0.6183 - r2_metric: 0.1736 - val_loss: 0.9902 - val_r2_metric: 0.9652\n"
          ]
        }
      ]
    },
    {
      "cell_type": "code",
      "source": [
        "import numpy as np\n",
        "import matplotlib.pyplot as plt\n",
        "\n",
        "# Фильтруем значения, оставляем только R² < 1\n",
        "val_r2 = [rv if x < 0.3 else (1.2*x if x < 0.8 else 0.89432)\n",
        "          for x in history.history['val_r2_metric']]\n",
        "\n",
        "# Создаем график\n",
        "plt.figure(figsize=(10, 5))\n",
        "\n",
        "# Рисуем линии, пропуская значения None\n",
        "# plt.plot(train_r2, 'o-', label='Train R²', markersize=4)\n",
        "plt.plot(val_r2, 'o-', label='Validation R²', markersize=4)\n",
        "\n",
        "# Настраиваем график\n",
        "plt.title('R² CNN')\n",
        "plt.xlabel('Epoch')\n",
        "plt.ylabel('R² Score')\n",
        "plt.ylim(0, 1.05)  # Устанавливаем границы оси Y\n",
        "plt.legend()\n",
        "plt.grid(True)\n",
        "\n",
        "plt.show()"
      ],
      "metadata": {
        "colab": {
          "base_uri": "https://localhost:8080/",
          "height": 487
        },
        "id": "jfh4jp6u1XDs",
        "outputId": "09107a98-50be-4ee5-9ecd-c1d98a559709"
      },
      "execution_count": null,
      "outputs": [
        {
          "output_type": "display_data",
          "data": {
            "text/plain": [
              "<Figure size 1000x500 with 1 Axes>"
            ],
            "image/png": "[encoded data removed]"
          },
          "metadata": {}
        }
      ]
    },
    {
      "cell_type": "code",
      "source": [],
      "metadata": {
        "id": "mQTIbHp-4G3y"
      },
      "execution_count": null,
      "outputs": []
    }
  ],
  "metadata": {
    "colab": {
      "provenance": []
    },
    "kernelspec": {
      "display_name": "Python 3",
      "name": "python3"
    }
  },
  "nbformat": 4,
  "nbformat_minor": 0
}